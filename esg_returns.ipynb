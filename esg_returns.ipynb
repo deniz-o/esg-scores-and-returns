{
  "cells": [
    {
      "cell_type": "markdown",
      "metadata": {},
      "source": [
        "# Investigating the relationship between ESG scores and stock performance\n",
        "This notebook investigates the relationship between ESG scores and returns of S&P 500 companies by constructing decile portfolios based on total ESG scores and comparing the performance of top and bottom decile portfolios.\n",
        "\n",
        "**Methodology:** Top and bottom decile portfolios\\\n",
        "**Ranking:** Total ESG score\\\n",
        "**Weighting:** Equal-weighted\\\n",
        "**Frequency:** Monthly\\\n",
        "**Timeframe:** September 2014 and December 2022 (99 months)\\\n",
        "**Sample size:** 418 S&P 500 companies, chosen based on ESG score data availability\n",
        "\n",
        "**Data sources:**\n",
        "- **ESG ratings:** Yahoo Finance via yesg\n",
        "- **Historical prices:** yfinance\n",
        "- **Risk-free rate:** fred API (TB3MS)\n",
        "- **Factor returns:** Fama/French 5 Factors (2x3)\n",
        "\n",
        "**Risk-adjusted portfolio metrics:**\n",
        "- Jensen’s alpha\n",
        "- Information ratio\n",
        "- 5-Factor alpha\n",
        "- Sharpe ratio\n",
        "\n",
        "**Benchmark comparison:** S&P 500"
      ]
    },
    {
      "cell_type": "markdown",
      "metadata": {},
      "source": [
        "## Imports"
      ]
    },
    {
      "cell_type": "code",
      "execution_count": 1,
      "metadata": {
        "id": "x_rGyTH8hJB1"
      },
      "outputs": [],
      "source": [
        "import pandas as pd, numpy as np\n",
        "import seaborn as sns, matplotlib.pyplot as plt\n",
        "from datetime import datetime\n",
        "import time\n",
        "import pandas_datareader as web\n",
        "import yfinance as yf\n",
        "import statsmodels.api as sm\n",
        "import yesg"
      ]
    },
    {
      "cell_type": "markdown",
      "metadata": {
        "id": "ODUyfCqXPM8O"
      },
      "source": [
        "## ESG Data\n",
        "Retrieved ESG scores for S&P500 companies using yesg library. Fetched data is saved as a csv file to avoid fetching again."
      ]
    },
    {
      "cell_type": "markdown",
      "metadata": {
        "id": "Izw4v2seW52A"
      },
      "source": [
        "### Data Retrieval"
      ]
    },
    {
      "cell_type": "code",
      "execution_count": 2,
      "metadata": {
        "colab": {
          "base_uri": "https://localhost:8080/"
        },
        "id": "UPR4CzsdM30G",
        "outputId": "6cf7e520-7bc5-4f9f-eaac-9cd062bf70c3"
      },
      "outputs": [
        {
          "name": "stdout",
          "output_type": "stream",
          "text": [
            "['MMM', 'AOS', 'ABT', 'ABBV', 'ACN', 'ATVI', 'ADM', 'ADBE', 'ADP', 'AAP', 'AES', 'AFL', 'A', 'APD', 'AKAM', 'ALK', 'ALB', 'ARE', 'ALGN', 'ALLE', 'LNT', 'ALL', 'GOOGL', 'GOOG', 'MO', 'AMZN', 'AMCR', 'AMD', 'AEE', 'AAL', 'AEP', 'AXP', 'AIG', 'AMT', 'AWK', 'AMP', 'ABC', 'AME', 'AMGN', 'APH', 'ADI', 'ANSS', 'AON', 'APA', 'AAPL', 'AMAT', 'APTV', 'ACGL', 'ANET', 'AJG', 'AIZ', 'T', 'ATO', 'ADSK', 'AZO', 'AVB', 'AVY', 'AXON', 'BKR', 'BALL', 'BAC', 'BBWI', 'BAX', 'BDX', 'WRB', 'BRK.B', 'BBY', 'BIO', 'TECH', 'BIIB', 'BLK', 'BK', 'BA', 'BKNG', 'BWA', 'BXP', 'BSX', 'BMY', 'AVGO', 'BR', 'BRO', 'BF.B', 'BG', 'CHRW', 'CDNS', 'CZR', 'CPT', 'CPB', 'COF', 'CAH', 'KMX', 'CCL', 'CARR', 'CTLT', 'CAT', 'CBOE', 'CBRE', 'CDW', 'CE', 'CNC', 'CNP', 'CDAY', 'CF', 'CRL', 'SCHW', 'CHTR', 'CVX', 'CMG', 'CB', 'CHD', 'CI', 'CINF', 'CTAS', 'CSCO', 'C', 'CFG', 'CLX', 'CME', 'CMS', 'KO', 'CTSH', 'CL', 'CMCSA', 'CMA', 'CAG', 'COP', 'ED', 'STZ', 'CEG', 'COO', 'CPRT', 'GLW', 'CTVA', 'CSGP', 'COST', 'CTRA', 'CCI', 'CSX', 'CMI', 'CVS', 'DHI', 'DHR', 'DRI', 'DVA', 'DE', 'DAL', 'XRAY', 'DVN', 'DXCM', 'FANG', 'DLR', 'DFS', 'DIS', 'DG', 'DLTR', 'D', 'DPZ', 'DOV', 'DOW', 'DTE', 'DUK', 'DD', 'DXC', 'EMN', 'ETN', 'EBAY', 'ECL', 'EIX', 'EW', 'EA', 'ELV', 'LLY', 'EMR', 'ENPH', 'ETR', 'EOG', 'EPAM', 'EQT', 'EFX', 'EQIX', 'EQR', 'ESS', 'EL', 'ETSY', 'EG', 'EVRG', 'ES', 'EXC', 'EXPE', 'EXPD', 'EXR', 'XOM', 'FFIV', 'FDS', 'FICO', 'FAST', 'FRT', 'FDX', 'FITB', 'FSLR', 'FE', 'FIS', 'FI', 'FLT', 'FMC', 'F', 'FTNT', 'FTV', 'FOXA', 'FOX', 'BEN', 'FCX', 'GRMN', 'IT', 'GEHC', 'GEN', 'GNRC', 'GD', 'GE', 'GIS', 'GM', 'GPC', 'GILD', 'GL', 'GPN', 'GS', 'HAL', 'HIG', 'HAS', 'HCA', 'PEAK', 'HSIC', 'HSY', 'HES', 'HPE', 'HLT', 'HOLX', 'HD', 'HON', 'HRL', 'HST', 'HWM', 'HPQ', 'HUM', 'HBAN', 'HII', 'IBM', 'IEX', 'IDXX', 'ITW', 'ILMN', 'INCY', 'IR', 'PODD', 'INTC', 'ICE', 'IFF', 'IP', 'IPG', 'INTU', 'ISRG', 'IVZ', 'INVH', 'IQV', 'IRM', 'JBHT', 'JKHY', 'J', 'JNJ', 'JCI', 'JPM', 'JNPR', 'K', 'KDP', 'KEY', 'KEYS', 'KMB', 'KIM', 'KMI', 'KLAC', 'KHC', 'KR', 'LHX', 'LH', 'LRCX', 'LW', 'LVS', 'LDOS', 'LEN', 'LNC', 'LIN', 'LYV', 'LKQ', 'LMT', 'L', 'LOW', 'LYB', 'MTB', 'MRO', 'MPC', 'MKTX', 'MAR', 'MMC', 'MLM', 'MAS', 'MA', 'MTCH', 'MKC', 'MCD', 'MCK', 'MDT', 'MRK', 'META', 'MET', 'MTD', 'MGM', 'MCHP', 'MU', 'MSFT', 'MAA', 'MRNA', 'MHK', 'MOH', 'TAP', 'MDLZ', 'MPWR', 'MNST', 'MCO', 'MS', 'MOS', 'MSI', 'MSCI', 'NDAQ', 'NTAP', 'NFLX', 'NWL', 'NEM', 'NWSA', 'NWS', 'NEE', 'NKE', 'NI', 'NDSN', 'NSC', 'NTRS', 'NOC', 'NCLH', 'NRG', 'NUE', 'NVDA', 'NVR', 'NXPI', 'ORLY', 'OXY', 'ODFL', 'OMC', 'ON', 'OKE', 'ORCL', 'OGN', 'OTIS', 'PCAR', 'PKG', 'PANW', 'PARA', 'PH', 'PAYX', 'PAYC', 'PYPL', 'PNR', 'PEP', 'PFE', 'PCG', 'PM', 'PSX', 'PNW', 'PXD', 'PNC', 'POOL', 'PPG', 'PPL', 'PFG', 'PG', 'PGR', 'PLD', 'PRU', 'PEG', 'PTC', 'PSA', 'PHM', 'QRVO', 'PWR', 'QCOM', 'DGX', 'RL', 'RJF', 'RTX', 'O', 'REG', 'REGN', 'RF', 'RSG', 'RMD', 'RVTY', 'RHI', 'ROK', 'ROL', 'ROP', 'ROST', 'RCL', 'SPGI', 'CRM', 'SBAC', 'SLB', 'STX', 'SEE', 'SRE', 'NOW', 'SHW', 'SPG', 'SWKS', 'SJM', 'SNA', 'SEDG', 'SO', 'LUV', 'SWK', 'SBUX', 'STT', 'STLD', 'STE', 'SYK', 'SYF', 'SNPS', 'SYY', 'TMUS', 'TROW', 'TTWO', 'TPR', 'TRGP', 'TGT', 'TEL', 'TDY', 'TFX', 'TER', 'TSLA', 'TXN', 'TXT', 'TMO', 'TJX', 'TSCO', 'TT', 'TDG', 'TRV', 'TRMB', 'TFC', 'TYL', 'TSN', 'USB', 'UDR', 'ULTA', 'UNP', 'UAL', 'UPS', 'URI', 'UNH', 'UHS', 'VLO', 'VTR', 'VRSN', 'VRSK', 'VZ', 'VRTX', 'VFC', 'VTRS', 'VICI', 'V', 'VMC', 'WAB', 'WBA', 'WMT', 'WBD', 'WM', 'WAT', 'WEC', 'WFC', 'WELL', 'WST', 'WDC', 'WRK', 'WY', 'WHR', 'WMB', 'WTW', 'GWW', 'WYNN', 'XEL', 'XYL', 'YUM', 'ZBRA', 'ZBH', 'ZION', 'ZTS']\n"
          ]
        }
      ],
      "source": [
        "# Scrape Wikipedia to get the S&P500 company list\n",
        "url = 'https://en.wikipedia.org/wiki/List_of_S%26P_500_companies'\n",
        "tables = pd.read_html(url)\n",
        "sp500_table = tables[0]\n",
        "\n",
        "# Get the list of symbols and company names\n",
        "sp500_symbols = sp500_table['Symbol'].tolist()\n",
        "company_names = sp500_table['Security'].tolist()\n",
        "\n",
        "print(sp500_symbols)"
      ]
    },
    {
      "cell_type": "code",
      "execution_count": 3,
      "metadata": {
        "colab": {
          "base_uri": "https://localhost:8080/",
          "height": 455
        },
        "id": "HbUw9Gl9QWSy",
        "outputId": "0f42dd09-083b-4a24-ecb2-26a4549b57bd"
      },
      "outputs": [
        {
          "data": {
            "text/html": [
              "<div>\n",
              "<style scoped>\n",
              "    .dataframe tbody tr th:only-of-type {\n",
              "        vertical-align: middle;\n",
              "    }\n",
              "\n",
              "    .dataframe tbody tr th {\n",
              "        vertical-align: top;\n",
              "    }\n",
              "\n",
              "    .dataframe thead th {\n",
              "        text-align: right;\n",
              "    }\n",
              "</style>\n",
              "<table border=\"1\" class=\"dataframe\">\n",
              "  <thead>\n",
              "    <tr style=\"text-align: right;\">\n",
              "      <th></th>\n",
              "      <th>Total-Score</th>\n",
              "      <th>E-Score</th>\n",
              "      <th>S-Score</th>\n",
              "      <th>G-Score</th>\n",
              "    </tr>\n",
              "    <tr>\n",
              "      <th>Date</th>\n",
              "      <th></th>\n",
              "      <th></th>\n",
              "      <th></th>\n",
              "      <th></th>\n",
              "    </tr>\n",
              "  </thead>\n",
              "  <tbody>\n",
              "    <tr>\n",
              "      <th>2014-09-01</th>\n",
              "      <td>61.00</td>\n",
              "      <td>74.00</td>\n",
              "      <td>45.00</td>\n",
              "      <td>62.00</td>\n",
              "    </tr>\n",
              "    <tr>\n",
              "      <th>2014-10-01</th>\n",
              "      <td>60.00</td>\n",
              "      <td>74.00</td>\n",
              "      <td>45.00</td>\n",
              "      <td>62.00</td>\n",
              "    </tr>\n",
              "    <tr>\n",
              "      <th>2014-11-01</th>\n",
              "      <td>61.00</td>\n",
              "      <td>74.00</td>\n",
              "      <td>45.00</td>\n",
              "      <td>62.00</td>\n",
              "    </tr>\n",
              "    <tr>\n",
              "      <th>2014-12-01</th>\n",
              "      <td>61.00</td>\n",
              "      <td>74.00</td>\n",
              "      <td>45.00</td>\n",
              "      <td>62.00</td>\n",
              "    </tr>\n",
              "    <tr>\n",
              "      <th>2015-01-01</th>\n",
              "      <td>61.00</td>\n",
              "      <td>74.00</td>\n",
              "      <td>45.00</td>\n",
              "      <td>62.00</td>\n",
              "    </tr>\n",
              "    <tr>\n",
              "      <th>...</th>\n",
              "      <td>...</td>\n",
              "      <td>...</td>\n",
              "      <td>...</td>\n",
              "      <td>...</td>\n",
              "    </tr>\n",
              "    <tr>\n",
              "      <th>2022-04-01</th>\n",
              "      <td>NaN</td>\n",
              "      <td>NaN</td>\n",
              "      <td>NaN</td>\n",
              "      <td>NaN</td>\n",
              "    </tr>\n",
              "    <tr>\n",
              "      <th>2022-05-01</th>\n",
              "      <td>16.41</td>\n",
              "      <td>0.65</td>\n",
              "      <td>6.86</td>\n",
              "      <td>8.90</td>\n",
              "    </tr>\n",
              "    <tr>\n",
              "      <th>2022-06-01</th>\n",
              "      <td>NaN</td>\n",
              "      <td>NaN</td>\n",
              "      <td>NaN</td>\n",
              "      <td>NaN</td>\n",
              "    </tr>\n",
              "    <tr>\n",
              "      <th>2022-07-01</th>\n",
              "      <td>NaN</td>\n",
              "      <td>NaN</td>\n",
              "      <td>NaN</td>\n",
              "      <td>NaN</td>\n",
              "    </tr>\n",
              "    <tr>\n",
              "      <th>2022-08-01</th>\n",
              "      <td>16.68</td>\n",
              "      <td>0.65</td>\n",
              "      <td>6.86</td>\n",
              "      <td>9.18</td>\n",
              "    </tr>\n",
              "  </tbody>\n",
              "</table>\n",
              "<p>96 rows × 4 columns</p>\n",
              "</div>"
            ],
            "text/plain": [
              "            Total-Score  E-Score  S-Score  G-Score\n",
              "Date                                              \n",
              "2014-09-01        61.00    74.00    45.00    62.00\n",
              "2014-10-01        60.00    74.00    45.00    62.00\n",
              "2014-11-01        61.00    74.00    45.00    62.00\n",
              "2014-12-01        61.00    74.00    45.00    62.00\n",
              "2015-01-01        61.00    74.00    45.00    62.00\n",
              "...                 ...      ...      ...      ...\n",
              "2022-04-01          NaN      NaN      NaN      NaN\n",
              "2022-05-01        16.41     0.65     6.86     8.90\n",
              "2022-06-01          NaN      NaN      NaN      NaN\n",
              "2022-07-01          NaN      NaN      NaN      NaN\n",
              "2022-08-01        16.68     0.65     6.86     9.18\n",
              "\n",
              "[96 rows x 4 columns]"
            ]
          },
          "execution_count": 3,
          "metadata": {},
          "output_type": "execute_result"
        }
      ],
      "source": [
        "# Test the yesg module\n",
        "yesg.get_historic_esg('aapl')"
      ]
    },
    {
      "cell_type": "code",
      "execution_count": null,
      "metadata": {
        "id": "_70hefRNRuHT"
      },
      "outputs": [],
      "source": [
        "# Function to retrieve ESG data for a symbol\n",
        "def get_esg_data(symbol):\n",
        "    try:\n",
        "        esg_data = yesg.get_historic_esg(symbol)\n",
        "        esg_data['Symbol'] = symbol\n",
        "        return esg_data\n",
        "    except Exception as e:\n",
        "        print(f\"Error fetching data for {symbol}: {e}\")\n",
        "        return None\n",
        "\n",
        "# Retrieve ESG data for each symbol in S&P500\n",
        "esg_data_list = []\n",
        "\n",
        "for symbol in sp500_symbols:\n",
        "    esg_data = get_esg_data(symbol)\n",
        "    \n",
        "    if esg_data is None:\n",
        "        print(f\"Data not available for {symbol}\")\n",
        "        time.sleep(2)\n",
        "        continue\n",
        "    \n",
        "    esg_data['Symbol'] = symbol\n",
        "    esg_data_list.append(esg_data)\n",
        "    print(f\"Data fetched for {symbol}\")\n",
        "    time.sleep(2)"
      ]
    },
    {
      "cell_type": "code",
      "execution_count": null,
      "metadata": {
        "colab": {
          "base_uri": "https://localhost:8080/",
          "height": 238
        },
        "id": "R1W-VUc3UHlg",
        "outputId": "9ac214d3-399e-4f35-97dd-7d7ef1ffe215"
      },
      "outputs": [],
      "source": [
        "# Concatenate the data into a single dataframe\n",
        "esg_data_df = pd.concat(esg_data_list, axis=0)\n",
        "esg_data_df.head()"
      ]
    },
    {
      "cell_type": "code",
      "execution_count": null,
      "metadata": {},
      "outputs": [],
      "source": [
        "# Save the data to a CSV file\n",
        "esg_data_df.to_csv('data/yesg_sp500.csv', index=False)"
      ]
    },
    {
      "cell_type": "markdown",
      "metadata": {
        "id": "tX4x0v4rX997"
      },
      "source": [
        "### Data Preparation"
      ]
    },
    {
      "cell_type": "code",
      "execution_count": 4,
      "metadata": {
        "colab": {
          "base_uri": "https://localhost:8080/",
          "height": 206
        },
        "id": "kdSKwr7TYGIK",
        "outputId": "cce99ccc-357e-4cda-eba7-92ca8734d975"
      },
      "outputs": [
        {
          "data": {
            "text/html": [
              "<div>\n",
              "<style scoped>\n",
              "    .dataframe tbody tr th:only-of-type {\n",
              "        vertical-align: middle;\n",
              "    }\n",
              "\n",
              "    .dataframe tbody tr th {\n",
              "        vertical-align: top;\n",
              "    }\n",
              "\n",
              "    .dataframe thead th {\n",
              "        text-align: right;\n",
              "    }\n",
              "</style>\n",
              "<table border=\"1\" class=\"dataframe\">\n",
              "  <thead>\n",
              "    <tr style=\"text-align: right;\">\n",
              "      <th></th>\n",
              "      <th>Date</th>\n",
              "      <th>Total-Score</th>\n",
              "      <th>E-Score</th>\n",
              "      <th>S-Score</th>\n",
              "      <th>G-Score</th>\n",
              "      <th>Symbol</th>\n",
              "    </tr>\n",
              "  </thead>\n",
              "  <tbody>\n",
              "    <tr>\n",
              "      <th>0</th>\n",
              "      <td>2014-09-01</td>\n",
              "      <td>73.0</td>\n",
              "      <td>73.0</td>\n",
              "      <td>74.0</td>\n",
              "      <td>73.0</td>\n",
              "      <td>MMM</td>\n",
              "    </tr>\n",
              "    <tr>\n",
              "      <th>1</th>\n",
              "      <td>2014-10-01</td>\n",
              "      <td>72.0</td>\n",
              "      <td>72.0</td>\n",
              "      <td>74.0</td>\n",
              "      <td>73.0</td>\n",
              "      <td>MMM</td>\n",
              "    </tr>\n",
              "    <tr>\n",
              "      <th>2</th>\n",
              "      <td>2014-11-01</td>\n",
              "      <td>73.0</td>\n",
              "      <td>73.0</td>\n",
              "      <td>74.0</td>\n",
              "      <td>73.0</td>\n",
              "      <td>MMM</td>\n",
              "    </tr>\n",
              "    <tr>\n",
              "      <th>3</th>\n",
              "      <td>2014-12-01</td>\n",
              "      <td>73.0</td>\n",
              "      <td>73.0</td>\n",
              "      <td>74.0</td>\n",
              "      <td>73.0</td>\n",
              "      <td>MMM</td>\n",
              "    </tr>\n",
              "    <tr>\n",
              "      <th>4</th>\n",
              "      <td>2015-01-01</td>\n",
              "      <td>74.0</td>\n",
              "      <td>70.0</td>\n",
              "      <td>76.0</td>\n",
              "      <td>78.0</td>\n",
              "      <td>MMM</td>\n",
              "    </tr>\n",
              "  </tbody>\n",
              "</table>\n",
              "</div>"
            ],
            "text/plain": [
              "        Date  Total-Score  E-Score  S-Score  G-Score Symbol\n",
              "0 2014-09-01         73.0     73.0     74.0     73.0    MMM\n",
              "1 2014-10-01         72.0     72.0     74.0     73.0    MMM\n",
              "2 2014-11-01         73.0     73.0     74.0     73.0    MMM\n",
              "3 2014-12-01         73.0     73.0     74.0     73.0    MMM\n",
              "4 2015-01-01         74.0     70.0     76.0     78.0    MMM"
            ]
          },
          "execution_count": 4,
          "metadata": {},
          "output_type": "execute_result"
        }
      ],
      "source": [
        "# Load the saved csv file containing ESG data\n",
        "esg_data_df = pd.read_csv('data/yesg_sp500.csv')\n",
        "\n",
        "# Convert the date to datetime format\n",
        "esg_data_df['Date'] = pd.to_datetime(esg_data_df['Date'])\n",
        "\n",
        "esg_data_df.head()"
      ]
    },
    {
      "cell_type": "code",
      "execution_count": 5,
      "metadata": {
        "colab": {
          "base_uri": "https://localhost:8080/"
        },
        "id": "Gl0_IhL4cIgZ",
        "outputId": "005d86a6-84fd-40be-f67e-c3548895e4bc"
      },
      "outputs": [
        {
          "name": "stdout",
          "output_type": "stream",
          "text": [
            "Total-Score    0.207701\n",
            "E-Score        0.207701\n",
            "S-Score        0.207701\n",
            "G-Score        0.207701\n",
            "Date           0.000000\n",
            "Symbol         0.000000\n",
            "dtype: float64\n",
            "        Date  Total-Score   E-Score   S-Score   G-Score  Symbol\n",
            "Symbol                                                         \n",
            "A        0.0     0.217822  0.217822  0.217822  0.217822     0.0\n",
            "AAL      0.0     0.217822  0.217822  0.217822  0.217822     0.0\n",
            "AAP      0.0     0.217822  0.217822  0.217822  0.217822     0.0\n",
            "AAPL     0.0     0.187500  0.187500  0.187500  0.187500     0.0\n",
            "ABBV     0.0     0.187500  0.187500  0.187500  0.187500     0.0\n",
            "...      ...          ...       ...       ...       ...     ...\n",
            "XYL      0.0     0.217822  0.217822  0.217822  0.217822     0.0\n",
            "YUM      0.0     0.187500  0.187500  0.187500  0.187500     0.0\n",
            "ZBH      0.0     0.217822  0.217822  0.217822  0.217822     0.0\n",
            "ZION     0.0     0.000000  0.000000  0.000000  0.000000     0.0\n",
            "ZTS      0.0     0.187500  0.187500  0.187500  0.187500     0.0\n",
            "\n",
            "[447 rows x 6 columns]\n",
            "            Date  Total-Score  E-Score  S-Score  G-Score  Symbol\n",
            "Date                                                            \n",
            "2014-09-01     0            0        0        0        0       0\n",
            "2014-10-01     0            0        0        0        0       0\n",
            "2014-11-01     0            0        0        0        0       0\n",
            "2014-12-01     0            0        0        0        0       0\n",
            "2015-01-01     0            0        0        0        0       0\n",
            "...          ...          ...      ...      ...      ...     ...\n",
            "2022-09-01     0          239      239      239      239       0\n",
            "2022-10-01     0          239      239      239      239       0\n",
            "2022-11-01     0          239      239      239      239       0\n",
            "2022-12-01     0          239      239      239      239       0\n",
            "2023-01-01     0            0        0        0        0       0\n",
            "\n",
            "[101 rows x 6 columns]\n"
          ]
        }
      ],
      "source": [
        "# Check missing data percentage\n",
        "missing_esg_percent = esg_data_df.isnull().mean().sort_values(ascending=False)\n",
        "print(missing_esg_percent)\n",
        "\n",
        "# Missing data percentage per company\n",
        "missing_esg_by_symbol = esg_data_df.groupby('Symbol').apply(lambda x: x.isnull().mean())\n",
        "print(missing_esg_by_symbol)\n",
        "\n",
        "# Missing data by date\n",
        "missing_esg_by_date = esg_data_df.groupby('Date').apply(lambda x: x.isnull().sum())\n",
        "print(missing_esg_by_date)"
      ]
    },
    {
      "cell_type": "markdown",
      "metadata": {},
      "source": [
        "- Overall, ~21% of the ESG scores are missing in the dataset. \n",
        "- Most stocks have ~22% missing values. \n",
        "- There are considerable spikes in missing values in certain periods. \n",
        "\n",
        "Let's exclude companies with more than 25% missing ESG scores to reduce potential biases that might rise from incomplete data."
      ]
    },
    {
      "cell_type": "code",
      "execution_count": 6,
      "metadata": {
        "colab": {
          "base_uri": "https://localhost:8080/",
          "height": 423
        },
        "id": "YALTb26RWRYp",
        "outputId": "21ae3a41-c495-4e4d-9fd4-b2806582e98d"
      },
      "outputs": [
        {
          "name": "stdout",
          "output_type": "stream",
          "text": [
            "Number of companies that meet the threshold: 420\n"
          ]
        }
      ],
      "source": [
        "# Filtering out to drop the companies missing more than 25% of the data\n",
        "threshold = 0.25\n",
        "\n",
        "# Create a list of companies that meet the threshold\n",
        "acceptable_symbols = missing_esg_by_symbol[missing_esg_by_symbol['Total-Score'] <= threshold].index\n",
        "\n",
        "# Check the number of companies that meet the threshold\n",
        "print(f\"Number of companies that meet the threshold: {len(acceptable_symbols)}\")\n",
        "\n",
        "# Filter the original dataframe to only include companies that meet the threshold\n",
        "filtered_esg_data = esg_data_df[esg_data_df['Symbol'].isin(acceptable_symbols)]"
      ]
    },
    {
      "cell_type": "code",
      "execution_count": 7,
      "metadata": {
        "id": "6_2huJF8etCO"
      },
      "outputs": [
        {
          "name": "stdout",
          "output_type": "stream",
          "text": [
            "Total-Score    0.202902\n",
            "E-Score        0.202902\n",
            "S-Score        0.202902\n",
            "G-Score        0.202902\n",
            "dtype: float64\n",
            "<class 'pandas.core.frame.DataFrame'>\n",
            "DatetimeIndex: 40389 entries, 2014-09-01 to 2022-08-01\n",
            "Data columns (total 5 columns):\n",
            " #   Column       Non-Null Count  Dtype  \n",
            "---  ------       --------------  -----  \n",
            " 0   Total-Score  32194 non-null  float64\n",
            " 1   E-Score      32194 non-null  float64\n",
            " 2   S-Score      32194 non-null  float64\n",
            " 3   G-Score      32194 non-null  float64\n",
            " 4   Symbol       40389 non-null  object \n",
            "dtypes: float64(4), object(1)\n",
            "memory usage: 1.8+ MB\n",
            "None\n"
          ]
        }
      ],
      "source": [
        "# Reset the index\n",
        "filtered_esg_data.reset_index(drop=True, inplace=True)\n",
        "\n",
        "# Set 'Date' as index again and convert to datetime format\n",
        "filtered_esg_data.set_index('Date', inplace=True)\n",
        "filtered_esg_data.index = pd.to_datetime(filtered_esg_data.index)\n",
        "\n",
        "# Group by 'Symbol' and resample to monthly using the mean value for each month (to align with the monthly returns data)\n",
        "monthly_esg_data = filtered_esg_data.groupby('Symbol').resample('M').mean()\n",
        "\n",
        "# Check the missing values again after filtering\n",
        "missing_data_percent = monthly_esg_data.isnull().mean()\n",
        "print(missing_data_percent)\n",
        "print(filtered_esg_data.info())"
      ]
    },
    {
      "cell_type": "markdown",
      "metadata": {},
      "source": [
        "Excluding companies that do not meet the threshold allowed for slight improvement but for a more complete dataset, we need to decide on a method to handle missing values. I decided to use forward filling. Forward filling is an imputation method where we carry the last valid observation down to the next valid. This method assumes that the last available ESG score remains relevant until a new score is reported.\n",
        "\n",
        "Before applying forward filling, it's important to check for missing values at the start of our time series for each company. If a company's initial value is missing, forward filling won't be effective for that initial entry. Our dataset does not have any missing values at the beginning of the period for all stocks.\n",
        "\n",
        "It is worth noting that forward filling might not be the perfect solution for all cases, but it's a reasonable approach given the nature of ESG scores, which typically update annually or semi-annually."
      ]
    },
    {
      "cell_type": "code",
      "execution_count": 8,
      "metadata": {},
      "outputs": [
        {
          "data": {
            "text/html": [
              "<div>\n",
              "<style scoped>\n",
              "    .dataframe tbody tr th:only-of-type {\n",
              "        vertical-align: middle;\n",
              "    }\n",
              "\n",
              "    .dataframe tbody tr th {\n",
              "        vertical-align: top;\n",
              "    }\n",
              "\n",
              "    .dataframe thead th {\n",
              "        text-align: right;\n",
              "    }\n",
              "</style>\n",
              "<table border=\"1\" class=\"dataframe\">\n",
              "  <thead>\n",
              "    <tr style=\"text-align: right;\">\n",
              "      <th></th>\n",
              "      <th></th>\n",
              "      <th>Total-Score</th>\n",
              "      <th>E-Score</th>\n",
              "      <th>S-Score</th>\n",
              "      <th>G-Score</th>\n",
              "    </tr>\n",
              "    <tr>\n",
              "      <th>Symbol</th>\n",
              "      <th>Date</th>\n",
              "      <th></th>\n",
              "      <th></th>\n",
              "      <th></th>\n",
              "      <th></th>\n",
              "    </tr>\n",
              "  </thead>\n",
              "  <tbody>\n",
              "    <tr>\n",
              "      <th rowspan=\"5\" valign=\"top\">A</th>\n",
              "      <th>2014-09-30</th>\n",
              "      <td>73.0</td>\n",
              "      <td>83.0</td>\n",
              "      <td>73.0</td>\n",
              "      <td>63.0</td>\n",
              "    </tr>\n",
              "    <tr>\n",
              "      <th>2014-10-31</th>\n",
              "      <td>71.0</td>\n",
              "      <td>83.0</td>\n",
              "      <td>73.0</td>\n",
              "      <td>63.0</td>\n",
              "    </tr>\n",
              "    <tr>\n",
              "      <th>2014-11-30</th>\n",
              "      <td>73.0</td>\n",
              "      <td>83.0</td>\n",
              "      <td>73.0</td>\n",
              "      <td>63.0</td>\n",
              "    </tr>\n",
              "    <tr>\n",
              "      <th>2014-12-31</th>\n",
              "      <td>73.0</td>\n",
              "      <td>83.0</td>\n",
              "      <td>73.0</td>\n",
              "      <td>63.0</td>\n",
              "    </tr>\n",
              "    <tr>\n",
              "      <th>2015-01-31</th>\n",
              "      <td>73.0</td>\n",
              "      <td>83.0</td>\n",
              "      <td>73.0</td>\n",
              "      <td>63.0</td>\n",
              "    </tr>\n",
              "  </tbody>\n",
              "</table>\n",
              "</div>"
            ],
            "text/plain": [
              "                   Total-Score  E-Score  S-Score  G-Score\n",
              "Symbol Date                                              \n",
              "A      2014-09-30         73.0     83.0     73.0     63.0\n",
              "       2014-10-31         71.0     83.0     73.0     63.0\n",
              "       2014-11-30         73.0     83.0     73.0     63.0\n",
              "       2014-12-31         73.0     83.0     73.0     63.0\n",
              "       2015-01-31         73.0     83.0     73.0     63.0"
            ]
          },
          "execution_count": 8,
          "metadata": {},
          "output_type": "execute_result"
        }
      ],
      "source": [
        "# Fill the missing values by carrying the last observation forward\n",
        "filled_esg_data = monthly_esg_data.groupby('Symbol', group_keys=False).apply(lambda x:x.fillna(method='ffill'))\n",
        "filled_esg_data.head()"
      ]
    },
    {
      "cell_type": "code",
      "execution_count": 9,
      "metadata": {},
      "outputs": [
        {
          "name": "stdout",
          "output_type": "stream",
          "text": [
            "Total-Score    0.0\n",
            "E-Score        0.0\n",
            "S-Score        0.0\n",
            "G-Score        0.0\n",
            "dtype: float64\n",
            "<class 'pandas.core.frame.DataFrame'>\n",
            "MultiIndex: 40389 entries, ('A', Timestamp('2014-09-30 00:00:00')) to ('ZTS', Timestamp('2022-08-31 00:00:00'))\n",
            "Data columns (total 4 columns):\n",
            " #   Column       Non-Null Count  Dtype  \n",
            "---  ------       --------------  -----  \n",
            " 0   Total-Score  40389 non-null  float64\n",
            " 1   E-Score      40389 non-null  float64\n",
            " 2   S-Score      40389 non-null  float64\n",
            " 3   G-Score      40389 non-null  float64\n",
            "dtypes: float64(4)\n",
            "memory usage: 1.4+ MB\n",
            "None\n"
          ]
        }
      ],
      "source": [
        "# Check missing values again after forward filling\n",
        "missing_data_percent = filled_esg_data.isnull().mean()\n",
        "print(missing_data_percent)\n",
        "print(filled_esg_data.info())"
      ]
    },
    {
      "cell_type": "markdown",
      "metadata": {
        "id": "lVzYlDqd_gAe"
      },
      "source": [
        "## Historical price data\n",
        "Retrieved time series price data for 418 stocks in S&P500 from yfinance."
      ]
    },
    {
      "cell_type": "markdown",
      "metadata": {},
      "source": [
        "### Data Retrieval"
      ]
    },
    {
      "cell_type": "code",
      "execution_count": 10,
      "metadata": {
        "colab": {
          "base_uri": "https://localhost:8080/"
        },
        "id": "U6CPkF_7_xFO",
        "outputId": "b03a61bb-e4fe-4026-910f-a3ca32cc0bc0"
      },
      "outputs": [
        {
          "name": "stdout",
          "output_type": "stream",
          "text": [
            "2014-09-01 00:00:00\n",
            "2023-01-01 00:00:00\n"
          ]
        }
      ],
      "source": [
        "# Identify the period in ESG dataset\n",
        "earliest_date = filtered_esg_data.index.min()\n",
        "latest_date = filtered_esg_data.index.max()\n",
        "\n",
        "print(earliest_date)\n",
        "print(latest_date)"
      ]
    },
    {
      "cell_type": "code",
      "execution_count": 11,
      "metadata": {
        "id": "M8QeSPefB-GH"
      },
      "outputs": [
        {
          "name": "stdout",
          "output_type": "stream",
          "text": [
            "[*********************100%***********************]  420 of 420 completed"
          ]
        },
        {
          "name": "stderr",
          "output_type": "stream",
          "text": [
            "\n",
            "2 Failed downloads:\n",
            "['FISV']: Exception(\"%ticker%: Data doesn't exist for startDate = 1409544000, endDate = 1672549200\")\n",
            "['PKI']: Exception('%ticker%: No timezone found, symbol may be delisted')\n"
          ]
        },
        {
          "name": "stdout",
          "output_type": "stream",
          "text": [
            "\n"
          ]
        },
        {
          "data": {
            "text/html": [
              "<div>\n",
              "<style scoped>\n",
              "    .dataframe tbody tr th:only-of-type {\n",
              "        vertical-align: middle;\n",
              "    }\n",
              "\n",
              "    .dataframe tbody tr th {\n",
              "        vertical-align: top;\n",
              "    }\n",
              "\n",
              "    .dataframe thead tr th {\n",
              "        text-align: left;\n",
              "    }\n",
              "\n",
              "    .dataframe thead tr:last-of-type th {\n",
              "        text-align: right;\n",
              "    }\n",
              "</style>\n",
              "<table border=\"1\" class=\"dataframe\">\n",
              "  <thead>\n",
              "    <tr>\n",
              "      <th></th>\n",
              "      <th colspan=\"10\" halign=\"left\">Adj Close</th>\n",
              "      <th>...</th>\n",
              "      <th colspan=\"10\" halign=\"left\">Volume</th>\n",
              "    </tr>\n",
              "    <tr>\n",
              "      <th></th>\n",
              "      <th>A</th>\n",
              "      <th>AAL</th>\n",
              "      <th>AAP</th>\n",
              "      <th>AAPL</th>\n",
              "      <th>ABBV</th>\n",
              "      <th>ABC</th>\n",
              "      <th>ABT</th>\n",
              "      <th>ACGL</th>\n",
              "      <th>ACN</th>\n",
              "      <th>ADBE</th>\n",
              "      <th>...</th>\n",
              "      <th>WY</th>\n",
              "      <th>WYNN</th>\n",
              "      <th>XEL</th>\n",
              "      <th>XOM</th>\n",
              "      <th>XRAY</th>\n",
              "      <th>XYL</th>\n",
              "      <th>YUM</th>\n",
              "      <th>ZBH</th>\n",
              "      <th>ZION</th>\n",
              "      <th>ZTS</th>\n",
              "    </tr>\n",
              "    <tr>\n",
              "      <th>Date</th>\n",
              "      <th></th>\n",
              "      <th></th>\n",
              "      <th></th>\n",
              "      <th></th>\n",
              "      <th></th>\n",
              "      <th></th>\n",
              "      <th></th>\n",
              "      <th></th>\n",
              "      <th></th>\n",
              "      <th></th>\n",
              "      <th></th>\n",
              "      <th></th>\n",
              "      <th></th>\n",
              "      <th></th>\n",
              "      <th></th>\n",
              "      <th></th>\n",
              "      <th></th>\n",
              "      <th></th>\n",
              "      <th></th>\n",
              "      <th></th>\n",
              "      <th></th>\n",
              "    </tr>\n",
              "  </thead>\n",
              "  <tbody>\n",
              "    <tr>\n",
              "      <th>2014-09-02 00:00:00</th>\n",
              "      <td>38.478043</td>\n",
              "      <td>38.277813</td>\n",
              "      <td>126.803772</td>\n",
              "      <td>23.078667</td>\n",
              "      <td>37.835999</td>\n",
              "      <td>67.272369</td>\n",
              "      <td>35.606453</td>\n",
              "      <td>18.510000</td>\n",
              "      <td>69.223953</td>\n",
              "      <td>72.099998</td>\n",
              "      <td>...</td>\n",
              "      <td>1858300</td>\n",
              "      <td>4725600</td>\n",
              "      <td>1940600</td>\n",
              "      <td>8957100</td>\n",
              "      <td>398600</td>\n",
              "      <td>930900</td>\n",
              "      <td>5995071</td>\n",
              "      <td>1068728</td>\n",
              "      <td>1791000</td>\n",
              "      <td>1654000</td>\n",
              "    </tr>\n",
              "    <tr>\n",
              "      <th>2014-09-03 00:00:00</th>\n",
              "      <td>38.471416</td>\n",
              "      <td>36.992432</td>\n",
              "      <td>127.190033</td>\n",
              "      <td>22.104574</td>\n",
              "      <td>38.138294</td>\n",
              "      <td>67.455490</td>\n",
              "      <td>36.053333</td>\n",
              "      <td>18.500000</td>\n",
              "      <td>69.855446</td>\n",
              "      <td>72.430000</td>\n",
              "      <td>...</td>\n",
              "      <td>3485400</td>\n",
              "      <td>1897900</td>\n",
              "      <td>1599800</td>\n",
              "      <td>8475100</td>\n",
              "      <td>347700</td>\n",
              "      <td>751000</td>\n",
              "      <td>3645672</td>\n",
              "      <td>1085620</td>\n",
              "      <td>2406200</td>\n",
              "      <td>4220600</td>\n",
              "    </tr>\n",
              "    <tr>\n",
              "      <th>2014-09-04 00:00:00</th>\n",
              "      <td>38.226265</td>\n",
              "      <td>36.359188</td>\n",
              "      <td>127.162422</td>\n",
              "      <td>21.921381</td>\n",
              "      <td>38.158913</td>\n",
              "      <td>67.446754</td>\n",
              "      <td>36.171364</td>\n",
              "      <td>18.376667</td>\n",
              "      <td>69.770088</td>\n",
              "      <td>72.459999</td>\n",
              "      <td>...</td>\n",
              "      <td>2925600</td>\n",
              "      <td>1870700</td>\n",
              "      <td>1189800</td>\n",
              "      <td>9662900</td>\n",
              "      <td>516400</td>\n",
              "      <td>1065000</td>\n",
              "      <td>10706805</td>\n",
              "      <td>1228893</td>\n",
              "      <td>1979700</td>\n",
              "      <td>2383100</td>\n",
              "    </tr>\n",
              "    <tr>\n",
              "      <th>2014-09-05 00:00:00</th>\n",
              "      <td>38.378651</td>\n",
              "      <td>35.773212</td>\n",
              "      <td>126.693398</td>\n",
              "      <td>22.111277</td>\n",
              "      <td>38.433739</td>\n",
              "      <td>68.135620</td>\n",
              "      <td>36.213524</td>\n",
              "      <td>18.333332</td>\n",
              "      <td>69.829834</td>\n",
              "      <td>73.129997</td>\n",
              "      <td>...</td>\n",
              "      <td>4020400</td>\n",
              "      <td>1969800</td>\n",
              "      <td>2122900</td>\n",
              "      <td>9476900</td>\n",
              "      <td>673700</td>\n",
              "      <td>528600</td>\n",
              "      <td>4328236</td>\n",
              "      <td>579787</td>\n",
              "      <td>2289800</td>\n",
              "      <td>1602900</td>\n",
              "    </tr>\n",
              "    <tr>\n",
              "      <th>2014-09-08 00:00:00</th>\n",
              "      <td>38.199745</td>\n",
              "      <td>36.132362</td>\n",
              "      <td>125.810532</td>\n",
              "      <td>21.975002</td>\n",
              "      <td>38.179523</td>\n",
              "      <td>68.301300</td>\n",
              "      <td>36.095501</td>\n",
              "      <td>18.343332</td>\n",
              "      <td>69.744492</td>\n",
              "      <td>73.389999</td>\n",
              "      <td>...</td>\n",
              "      <td>2507800</td>\n",
              "      <td>1516900</td>\n",
              "      <td>1377600</td>\n",
              "      <td>10080100</td>\n",
              "      <td>738300</td>\n",
              "      <td>710500</td>\n",
              "      <td>2432164</td>\n",
              "      <td>850574</td>\n",
              "      <td>1956800</td>\n",
              "      <td>1913500</td>\n",
              "    </tr>\n",
              "  </tbody>\n",
              "</table>\n",
              "<p>5 rows × 2520 columns</p>\n",
              "</div>"
            ],
            "text/plain": [
              "                     Adj Close                                                \n",
              "                             A        AAL         AAP       AAPL       ABBV   \n",
              "Date                                                                          \n",
              "2014-09-02 00:00:00  38.478043  38.277813  126.803772  23.078667  37.835999  \\\n",
              "2014-09-03 00:00:00  38.471416  36.992432  127.190033  22.104574  38.138294   \n",
              "2014-09-04 00:00:00  38.226265  36.359188  127.162422  21.921381  38.158913   \n",
              "2014-09-05 00:00:00  38.378651  35.773212  126.693398  22.111277  38.433739   \n",
              "2014-09-08 00:00:00  38.199745  36.132362  125.810532  21.975002  38.179523   \n",
              "\n",
              "                                                                             \n",
              "                           ABC        ABT       ACGL        ACN       ADBE   \n",
              "Date                                                                         \n",
              "2014-09-02 00:00:00  67.272369  35.606453  18.510000  69.223953  72.099998  \\\n",
              "2014-09-03 00:00:00  67.455490  36.053333  18.500000  69.855446  72.430000   \n",
              "2014-09-04 00:00:00  67.446754  36.171364  18.376667  69.770088  72.459999   \n",
              "2014-09-05 00:00:00  68.135620  36.213524  18.333332  69.829834  73.129997   \n",
              "2014-09-08 00:00:00  68.301300  36.095501  18.343332  69.744492  73.389999   \n",
              "\n",
              "                     ...   Volume                                       \n",
              "                     ...       WY     WYNN      XEL       XOM    XRAY   \n",
              "Date                 ...                                                \n",
              "2014-09-02 00:00:00  ...  1858300  4725600  1940600   8957100  398600  \\\n",
              "2014-09-03 00:00:00  ...  3485400  1897900  1599800   8475100  347700   \n",
              "2014-09-04 00:00:00  ...  2925600  1870700  1189800   9662900  516400   \n",
              "2014-09-05 00:00:00  ...  4020400  1969800  2122900   9476900  673700   \n",
              "2014-09-08 00:00:00  ...  2507800  1516900  1377600  10080100  738300   \n",
              "\n",
              "                                                                   \n",
              "                         XYL       YUM      ZBH     ZION      ZTS  \n",
              "Date                                                               \n",
              "2014-09-02 00:00:00   930900   5995071  1068728  1791000  1654000  \n",
              "2014-09-03 00:00:00   751000   3645672  1085620  2406200  4220600  \n",
              "2014-09-04 00:00:00  1065000  10706805  1228893  1979700  2383100  \n",
              "2014-09-05 00:00:00   528600   4328236   579787  2289800  1602900  \n",
              "2014-09-08 00:00:00   710500   2432164   850574  1956800  1913500  \n",
              "\n",
              "[5 rows x 2520 columns]"
            ]
          },
          "execution_count": 11,
          "metadata": {},
          "output_type": "execute_result"
        }
      ],
      "source": [
        "# Create list of symbols\n",
        "symbols = filtered_esg_data['Symbol'].to_list()\n",
        "# Get historical daily price data from yfinance and calculate daily returns\n",
        "prices = yf.download(symbols, start=earliest_date, end=latest_date)\n",
        "\n",
        "prices.head()"
      ]
    },
    {
      "cell_type": "code",
      "execution_count": 12,
      "metadata": {},
      "outputs": [
        {
          "name": "stdout",
          "output_type": "stream",
          "text": [
            "<class 'pandas.core.frame.DataFrame'>\n",
            "DatetimeIndex: 2099 entries, 2014-09-02 to 2022-12-30\n",
            "Columns: 2508 entries, ('Adj Close', 'A') to ('Volume', 'ZTS')\n",
            "dtypes: float64(2099), int64(409)\n",
            "memory usage: 40.2 MB\n"
          ]
        }
      ],
      "source": [
        "# Ensure prices data index is in datetime format\n",
        "prices.index = pd.to_datetime(prices.index)\n",
        "\n",
        "# Drop the two stocks with no data\n",
        "prices = prices.dropna(axis=1, how='all')\n",
        "\n",
        "prices.info()"
      ]
    },
    {
      "cell_type": "markdown",
      "metadata": {},
      "source": [
        "### Data Preparation"
      ]
    },
    {
      "cell_type": "markdown",
      "metadata": {},
      "source": [
        "Given that the ESG scores are monthly, we need to resample the daily price data to monthly frequency to calculate monthly returns. The monthly returns are then shifted by one period to get the next month's return. This step is helps us correlate a given month's ESG scores with the subsequent month's returns, with the objective of predicting future returns based on current ESG scores."
      ]
    },
    {
      "cell_type": "code",
      "execution_count": 13,
      "metadata": {
        "colab": {
          "base_uri": "https://localhost:8080/",
          "height": 310
        },
        "id": "wbJRCxUwEMxD",
        "outputId": "4e326faa-b524-4067-e154-2270fd860f9d"
      },
      "outputs": [
        {
          "data": {
            "text/html": [
              "<div>\n",
              "<style scoped>\n",
              "    .dataframe tbody tr th:only-of-type {\n",
              "        vertical-align: middle;\n",
              "    }\n",
              "\n",
              "    .dataframe tbody tr th {\n",
              "        vertical-align: top;\n",
              "    }\n",
              "\n",
              "    .dataframe thead th {\n",
              "        text-align: right;\n",
              "    }\n",
              "</style>\n",
              "<table border=\"1\" class=\"dataframe\">\n",
              "  <thead>\n",
              "    <tr style=\"text-align: right;\">\n",
              "      <th></th>\n",
              "      <th>A</th>\n",
              "      <th>AAL</th>\n",
              "      <th>AAP</th>\n",
              "      <th>AAPL</th>\n",
              "      <th>ABBV</th>\n",
              "      <th>ABC</th>\n",
              "      <th>ABT</th>\n",
              "      <th>ACGL</th>\n",
              "      <th>ACN</th>\n",
              "      <th>ADBE</th>\n",
              "      <th>...</th>\n",
              "      <th>WY</th>\n",
              "      <th>WYNN</th>\n",
              "      <th>XEL</th>\n",
              "      <th>XOM</th>\n",
              "      <th>XRAY</th>\n",
              "      <th>XYL</th>\n",
              "      <th>YUM</th>\n",
              "      <th>ZBH</th>\n",
              "      <th>ZION</th>\n",
              "      <th>ZTS</th>\n",
              "    </tr>\n",
              "    <tr>\n",
              "      <th>Date</th>\n",
              "      <th></th>\n",
              "      <th></th>\n",
              "      <th></th>\n",
              "      <th></th>\n",
              "      <th></th>\n",
              "      <th></th>\n",
              "      <th></th>\n",
              "      <th></th>\n",
              "      <th></th>\n",
              "      <th></th>\n",
              "      <th></th>\n",
              "      <th></th>\n",
              "      <th></th>\n",
              "      <th></th>\n",
              "      <th></th>\n",
              "      <th></th>\n",
              "      <th></th>\n",
              "      <th></th>\n",
              "      <th></th>\n",
              "      <th></th>\n",
              "      <th></th>\n",
              "    </tr>\n",
              "  </thead>\n",
              "  <tbody>\n",
              "    <tr>\n",
              "      <th>2014-09-30</th>\n",
              "      <td>-0.029835</td>\n",
              "      <td>0.168371</td>\n",
              "      <td>0.127858</td>\n",
              "      <td>0.071960</td>\n",
              "      <td>0.106880</td>\n",
              "      <td>0.104916</td>\n",
              "      <td>0.053657</td>\n",
              "      <td>0.029240</td>\n",
              "      <td>0.011080</td>\n",
              "      <td>0.013441</td>\n",
              "      <td>...</td>\n",
              "      <td>0.071882</td>\n",
              "      <td>0.015662</td>\n",
              "      <td>0.100987</td>\n",
              "      <td>0.028283</td>\n",
              "      <td>0.113378</td>\n",
              "      <td>0.028238</td>\n",
              "      <td>0.003986</td>\n",
              "      <td>0.106315</td>\n",
              "      <td>-0.003097</td>\n",
              "      <td>0.005683</td>\n",
              "    </tr>\n",
              "    <tr>\n",
              "      <th>2014-10-31</th>\n",
              "      <td>0.080871</td>\n",
              "      <td>0.173640</td>\n",
              "      <td>0.000817</td>\n",
              "      <td>0.105979</td>\n",
              "      <td>0.090451</td>\n",
              "      <td>0.069531</td>\n",
              "      <td>0.021105</td>\n",
              "      <td>0.017756</td>\n",
              "      <td>0.064226</td>\n",
              "      <td>0.050770</td>\n",
              "      <td>...</td>\n",
              "      <td>0.042823</td>\n",
              "      <td>-0.046660</td>\n",
              "      <td>0.014042</td>\n",
              "      <td>-0.057040</td>\n",
              "      <td>0.082923</td>\n",
              "      <td>0.054455</td>\n",
              "      <td>0.075456</td>\n",
              "      <td>0.009439</td>\n",
              "      <td>-0.030069</td>\n",
              "      <td>0.211443</td>\n",
              "    </tr>\n",
              "    <tr>\n",
              "      <th>2014-11-30</th>\n",
              "      <td>-0.042115</td>\n",
              "      <td>0.105089</td>\n",
              "      <td>0.083355</td>\n",
              "      <td>-0.071891</td>\n",
              "      <td>-0.054335</td>\n",
              "      <td>-0.009775</td>\n",
              "      <td>0.011458</td>\n",
              "      <td>0.031054</td>\n",
              "      <td>0.034518</td>\n",
              "      <td>-0.013301</td>\n",
              "      <td>...</td>\n",
              "      <td>0.016426</td>\n",
              "      <td>-0.167124</td>\n",
              "      <td>0.067320</td>\n",
              "      <td>0.021096</td>\n",
              "      <td>-0.029919</td>\n",
              "      <td>-0.007042</td>\n",
              "      <td>-0.056958</td>\n",
              "      <td>0.012025</td>\n",
              "      <td>0.016037</td>\n",
              "      <td>-0.042288</td>\n",
              "    </tr>\n",
              "    <tr>\n",
              "      <th>2014-12-31</th>\n",
              "      <td>-0.075171</td>\n",
              "      <td>-0.084841</td>\n",
              "      <td>-0.001758</td>\n",
              "      <td>0.061424</td>\n",
              "      <td>-0.070858</td>\n",
              "      <td>0.054237</td>\n",
              "      <td>-0.000512</td>\n",
              "      <td>-0.019120</td>\n",
              "      <td>-0.059120</td>\n",
              "      <td>-0.035351</td>\n",
              "      <td>...</td>\n",
              "      <td>-0.001115</td>\n",
              "      <td>-0.005445</td>\n",
              "      <td>0.044822</td>\n",
              "      <td>-0.054408</td>\n",
              "      <td>-0.060822</td>\n",
              "      <td>-0.104281</td>\n",
              "      <td>-0.002190</td>\n",
              "      <td>-0.011638</td>\n",
              "      <td>-0.159593</td>\n",
              "      <td>-0.005104</td>\n",
              "    </tr>\n",
              "    <tr>\n",
              "      <th>2015-01-31</th>\n",
              "      <td>0.117553</td>\n",
              "      <td>-0.022065</td>\n",
              "      <td>-0.025598</td>\n",
              "      <td>0.100777</td>\n",
              "      <td>0.002486</td>\n",
              "      <td>0.084300</td>\n",
              "      <td>0.058311</td>\n",
              "      <td>0.020528</td>\n",
              "      <td>0.071403</td>\n",
              "      <td>0.127905</td>\n",
              "      <td>...</td>\n",
              "      <td>-0.012492</td>\n",
              "      <td>-0.027403</td>\n",
              "      <td>-0.059952</td>\n",
              "      <td>0.020435</td>\n",
              "      <td>0.059564</td>\n",
              "      <td>0.051082</td>\n",
              "      <td>0.122164</td>\n",
              "      <td>0.073952</td>\n",
              "      <td>0.117726</td>\n",
              "      <td>0.078633</td>\n",
              "    </tr>\n",
              "  </tbody>\n",
              "</table>\n",
              "<p>5 rows × 418 columns</p>\n",
              "</div>"
            ],
            "text/plain": [
              "                   A       AAL       AAP      AAPL      ABBV       ABC   \n",
              "Date                                                                     \n",
              "2014-09-30 -0.029835  0.168371  0.127858  0.071960  0.106880  0.104916  \\\n",
              "2014-10-31  0.080871  0.173640  0.000817  0.105979  0.090451  0.069531   \n",
              "2014-11-30 -0.042115  0.105089  0.083355 -0.071891 -0.054335 -0.009775   \n",
              "2014-12-31 -0.075171 -0.084841 -0.001758  0.061424 -0.070858  0.054237   \n",
              "2015-01-31  0.117553 -0.022065 -0.025598  0.100777  0.002486  0.084300   \n",
              "\n",
              "                 ABT      ACGL       ACN      ADBE  ...        WY      WYNN   \n",
              "Date                                                ...                       \n",
              "2014-09-30  0.053657  0.029240  0.011080  0.013441  ...  0.071882  0.015662  \\\n",
              "2014-10-31  0.021105  0.017756  0.064226  0.050770  ...  0.042823 -0.046660   \n",
              "2014-11-30  0.011458  0.031054  0.034518 -0.013301  ...  0.016426 -0.167124   \n",
              "2014-12-31 -0.000512 -0.019120 -0.059120 -0.035351  ... -0.001115 -0.005445   \n",
              "2015-01-31  0.058311  0.020528  0.071403  0.127905  ... -0.012492 -0.027403   \n",
              "\n",
              "                 XEL       XOM      XRAY       XYL       YUM       ZBH   \n",
              "Date                                                                     \n",
              "2014-09-30  0.100987  0.028283  0.113378  0.028238  0.003986  0.106315  \\\n",
              "2014-10-31  0.014042 -0.057040  0.082923  0.054455  0.075456  0.009439   \n",
              "2014-11-30  0.067320  0.021096 -0.029919 -0.007042 -0.056958  0.012025   \n",
              "2014-12-31  0.044822 -0.054408 -0.060822 -0.104281 -0.002190 -0.011638   \n",
              "2015-01-31 -0.059952  0.020435  0.059564  0.051082  0.122164  0.073952   \n",
              "\n",
              "                ZION       ZTS  \n",
              "Date                            \n",
              "2014-09-30 -0.003097  0.005683  \n",
              "2014-10-31 -0.030069  0.211443  \n",
              "2014-11-30  0.016037 -0.042288  \n",
              "2014-12-31 -0.159593 -0.005104  \n",
              "2015-01-31  0.117726  0.078633  \n",
              "\n",
              "[5 rows x 418 columns]"
            ]
          },
          "execution_count": 13,
          "metadata": {},
          "output_type": "execute_result"
        }
      ],
      "source": [
        "# Resample to monthly returns and shift by one period to get next month's return\n",
        "returns = prices['Adj Close'].resample('M').last().pct_change().shift(-1)[0:]\n",
        "returns.head()"
      ]
    },
    {
      "cell_type": "code",
      "execution_count": 14,
      "metadata": {},
      "outputs": [
        {
          "data": {
            "text/plain": [
              "(FOXA    55\n",
              " IR      33\n",
              " HPE     14\n",
              " KHC     11\n",
              " PYPL    11\n",
              " WRK     10\n",
              " ETSY     8\n",
              " KEYS     2\n",
              " NTAP     1\n",
              " NTRS     1\n",
              " dtype: int64,\n",
              " Date\n",
              " 2022-12-31    418\n",
              " 2014-09-30      8\n",
              " 2014-11-30      7\n",
              " 2014-10-31      7\n",
              " 2015-01-31      7\n",
              " 2015-02-28      7\n",
              " 2015-03-31      7\n",
              " 2014-12-31      7\n",
              " 2015-04-30      6\n",
              " 2015-05-31      6\n",
              " dtype: int64)"
            ]
          },
          "execution_count": 14,
          "metadata": {},
          "output_type": "execute_result"
        }
      ],
      "source": [
        "# Check missing values for each stock in the returns data\n",
        "missing_values_by_stock = returns.isnull().sum(axis=0).sort_values(ascending=False)\n",
        "\n",
        "# Missing values for each date in the returns data\n",
        "missing_values_by_date = returns.isnull().sum(axis=1).sort_values(ascending=False)\n",
        "\n",
        "missing_values_by_stock.head(10), missing_values_by_date.head(10)"
      ]
    },
    {
      "cell_type": "markdown",
      "metadata": {},
      "source": [
        "Specific stocks exhibited a higher number of missing values such as FOXA, which is missing the returns for 55 months for the 99 month period.\n",
        "\n",
        "No company in the dataset has values for December 2022. This is expected, as we shifted the data to obtain future returns,  the last month's data will naturally be missing.\n",
        "\n",
        "We need to take the missing data into consideration during the merging process with the ESG data to ensure the integrity and robustness of the following analysis. "
      ]
    },
    {
      "cell_type": "markdown",
      "metadata": {
        "id": "ZLRUAWOCSPeD"
      },
      "source": [
        "## Construct decile portfolios based on ESG scores"
      ]
    },
    {
      "cell_type": "code",
      "execution_count": 15,
      "metadata": {
        "colab": {
          "base_uri": "https://localhost:8080/"
        },
        "id": "wZ-8USmISdB6",
        "outputId": "211339d4-f4f2-407c-e6d9-6e9f12785654"
      },
      "outputs": [
        {
          "data": {
            "text/html": [
              "<div>\n",
              "<style scoped>\n",
              "    .dataframe tbody tr th:only-of-type {\n",
              "        vertical-align: middle;\n",
              "    }\n",
              "\n",
              "    .dataframe tbody tr th {\n",
              "        vertical-align: top;\n",
              "    }\n",
              "\n",
              "    .dataframe thead th {\n",
              "        text-align: right;\n",
              "    }\n",
              "</style>\n",
              "<table border=\"1\" class=\"dataframe\">\n",
              "  <thead>\n",
              "    <tr style=\"text-align: right;\">\n",
              "      <th></th>\n",
              "      <th>Date</th>\n",
              "      <th>level_1</th>\n",
              "      <th>0</th>\n",
              "    </tr>\n",
              "  </thead>\n",
              "  <tbody>\n",
              "    <tr>\n",
              "      <th>0</th>\n",
              "      <td>2014-09-30</td>\n",
              "      <td>A</td>\n",
              "      <td>-0.029835</td>\n",
              "    </tr>\n",
              "    <tr>\n",
              "      <th>1</th>\n",
              "      <td>2014-09-30</td>\n",
              "      <td>AAL</td>\n",
              "      <td>0.168371</td>\n",
              "    </tr>\n",
              "    <tr>\n",
              "      <th>2</th>\n",
              "      <td>2014-09-30</td>\n",
              "      <td>AAP</td>\n",
              "      <td>0.127858</td>\n",
              "    </tr>\n",
              "    <tr>\n",
              "      <th>3</th>\n",
              "      <td>2014-09-30</td>\n",
              "      <td>AAPL</td>\n",
              "      <td>0.071960</td>\n",
              "    </tr>\n",
              "    <tr>\n",
              "      <th>4</th>\n",
              "      <td>2014-09-30</td>\n",
              "      <td>ABBV</td>\n",
              "      <td>0.106880</td>\n",
              "    </tr>\n",
              "  </tbody>\n",
              "</table>\n",
              "</div>"
            ],
            "text/plain": [
              "        Date level_1         0\n",
              "0 2014-09-30       A -0.029835\n",
              "1 2014-09-30     AAL  0.168371\n",
              "2 2014-09-30     AAP  0.127858\n",
              "3 2014-09-30    AAPL  0.071960\n",
              "4 2014-09-30    ABBV  0.106880"
            ]
          },
          "execution_count": 15,
          "metadata": {},
          "output_type": "execute_result"
        }
      ],
      "source": [
        "# Reset the index for filled_esg_data\n",
        "esg_data_reset = filled_esg_data.reset_index()\n",
        "\n",
        "# Reset the index for returns\n",
        "returns_reset = returns.stack().reset_index(level=1).reset_index()\n",
        "\n",
        "returns_reset.head()"
      ]
    },
    {
      "cell_type": "markdown",
      "metadata": {},
      "source": [
        "I decided to apply an inner merge between the ESG scores and the returns data. This method ensures that the resulting dataset only contains entries where both ESG scores and returns are available. This approach inherently handles missing values in the returns data, as any rows with missing data in either of the datasets will be excluded from the merged result. The missing returns of a particular stock in a particular month will exclude that stock from the decile portfolio and will not influence the returns of that decile."
      ]
    },
    {
      "cell_type": "code",
      "execution_count": 16,
      "metadata": {
        "colab": {
          "base_uri": "https://localhost:8080/"
        },
        "id": "RG10Hytqf-YM",
        "outputId": "b05df68f-e01a-4702-951d-511eca4e6913"
      },
      "outputs": [
        {
          "name": "stdout",
          "output_type": "stream",
          "text": [
            "<class 'pandas.core.frame.DataFrame'>\n",
            "RangeIndex: 39663 entries, 0 to 39662\n",
            "Data columns (total 7 columns):\n",
            " #   Column       Non-Null Count  Dtype         \n",
            "---  ------       --------------  -----         \n",
            " 0   Symbol       39663 non-null  object        \n",
            " 1   Date         39663 non-null  datetime64[ns]\n",
            " 2   Total-Score  39663 non-null  float64       \n",
            " 3   E-Score      39663 non-null  float64       \n",
            " 4   S-Score      39663 non-null  float64       \n",
            " 5   G-Score      39663 non-null  float64       \n",
            " 6   Return       39663 non-null  float64       \n",
            "dtypes: datetime64[ns](1), float64(5), object(1)\n",
            "memory usage: 2.1+ MB\n"
          ]
        }
      ],
      "source": [
        "# Rename columns\n",
        "returns_reset = returns_reset.rename(columns={'level_1': 'Symbol',0:'Return'})\n",
        "\n",
        "# Merge the ESG scores and returns\n",
        "merged_data = pd.merge(esg_data_reset, returns_reset, \n",
        "                       left_on=['Date', 'Symbol'], right_on=['Date', 'Symbol'])\n",
        "\n",
        "merged_data.info()"
      ]
    },
    {
      "cell_type": "markdown",
      "metadata": {},
      "source": [
        "While the inner merge provides a neat way of handling missing values, it's important to be aware of its implications. By excluding rows with missing data, we might inadvertently introduce biases if the missing values are not random.\n",
        "\n",
        "For this analysis, the missing values in the returns data does appear to be random. A sensitivity analysis can be done to ensure the excluded values do not have any patterns that might skew the results."
      ]
    },
    {
      "cell_type": "code",
      "execution_count": 17,
      "metadata": {
        "id": "rDPVs7t8a51g"
      },
      "outputs": [
        {
          "data": {
            "text/html": [
              "<div>\n",
              "<style scoped>\n",
              "    .dataframe tbody tr th:only-of-type {\n",
              "        vertical-align: middle;\n",
              "    }\n",
              "\n",
              "    .dataframe tbody tr th {\n",
              "        vertical-align: top;\n",
              "    }\n",
              "\n",
              "    .dataframe thead th {\n",
              "        text-align: right;\n",
              "    }\n",
              "</style>\n",
              "<table border=\"1\" class=\"dataframe\">\n",
              "  <thead>\n",
              "    <tr style=\"text-align: right;\">\n",
              "      <th></th>\n",
              "      <th>Symbol</th>\n",
              "      <th>Date</th>\n",
              "      <th>Total-Score</th>\n",
              "      <th>E-Score</th>\n",
              "      <th>S-Score</th>\n",
              "      <th>G-Score</th>\n",
              "      <th>Return</th>\n",
              "      <th>Decile</th>\n",
              "    </tr>\n",
              "  </thead>\n",
              "  <tbody>\n",
              "    <tr>\n",
              "      <th>0</th>\n",
              "      <td>A</td>\n",
              "      <td>2014-09-30</td>\n",
              "      <td>73.0</td>\n",
              "      <td>83.0</td>\n",
              "      <td>73.0</td>\n",
              "      <td>63.0</td>\n",
              "      <td>-0.029835</td>\n",
              "      <td>9</td>\n",
              "    </tr>\n",
              "    <tr>\n",
              "      <th>1</th>\n",
              "      <td>A</td>\n",
              "      <td>2014-10-31</td>\n",
              "      <td>71.0</td>\n",
              "      <td>83.0</td>\n",
              "      <td>73.0</td>\n",
              "      <td>63.0</td>\n",
              "      <td>0.080871</td>\n",
              "      <td>8</td>\n",
              "    </tr>\n",
              "    <tr>\n",
              "      <th>2</th>\n",
              "      <td>A</td>\n",
              "      <td>2014-11-30</td>\n",
              "      <td>73.0</td>\n",
              "      <td>83.0</td>\n",
              "      <td>73.0</td>\n",
              "      <td>63.0</td>\n",
              "      <td>-0.042115</td>\n",
              "      <td>9</td>\n",
              "    </tr>\n",
              "    <tr>\n",
              "      <th>3</th>\n",
              "      <td>A</td>\n",
              "      <td>2014-12-31</td>\n",
              "      <td>73.0</td>\n",
              "      <td>83.0</td>\n",
              "      <td>73.0</td>\n",
              "      <td>63.0</td>\n",
              "      <td>-0.075171</td>\n",
              "      <td>9</td>\n",
              "    </tr>\n",
              "    <tr>\n",
              "      <th>4</th>\n",
              "      <td>A</td>\n",
              "      <td>2015-01-31</td>\n",
              "      <td>73.0</td>\n",
              "      <td>83.0</td>\n",
              "      <td>73.0</td>\n",
              "      <td>63.0</td>\n",
              "      <td>0.117553</td>\n",
              "      <td>9</td>\n",
              "    </tr>\n",
              "  </tbody>\n",
              "</table>\n",
              "</div>"
            ],
            "text/plain": [
              "  Symbol       Date  Total-Score  E-Score  S-Score  G-Score    Return  Decile\n",
              "0      A 2014-09-30         73.0     83.0     73.0     63.0 -0.029835       9\n",
              "1      A 2014-10-31         71.0     83.0     73.0     63.0  0.080871       8\n",
              "2      A 2014-11-30         73.0     83.0     73.0     63.0 -0.042115       9\n",
              "3      A 2014-12-31         73.0     83.0     73.0     63.0 -0.075171       9\n",
              "4      A 2015-01-31         73.0     83.0     73.0     63.0  0.117553       9"
            ]
          },
          "execution_count": 17,
          "metadata": {},
          "output_type": "execute_result"
        }
      ],
      "source": [
        "# Calculate deciles based on the ESG scores\n",
        "merged_data['Decile'] = merged_data.groupby('Date')['Total-Score'].transform(\n",
        "    lambda x: pd.qcut(x, 10, labels=False, duplicates='drop'))\n",
        "\n",
        "merged_data.head()"
      ]
    },
    {
      "cell_type": "code",
      "execution_count": 18,
      "metadata": {},
      "outputs": [
        {
          "name": "stdout",
          "output_type": "stream",
          "text": [
            "<class 'pandas.core.frame.DataFrame'>\n",
            "RangeIndex: 39663 entries, 0 to 39662\n",
            "Data columns (total 8 columns):\n",
            " #   Column       Non-Null Count  Dtype         \n",
            "---  ------       --------------  -----         \n",
            " 0   Symbol       39663 non-null  object        \n",
            " 1   Date         39663 non-null  datetime64[ns]\n",
            " 2   Total-Score  39663 non-null  float64       \n",
            " 3   E-Score      39663 non-null  float64       \n",
            " 4   S-Score      39663 non-null  float64       \n",
            " 5   G-Score      39663 non-null  float64       \n",
            " 6   Return       39663 non-null  float64       \n",
            " 7   Decile       39663 non-null  int64         \n",
            "dtypes: datetime64[ns](1), float64(5), int64(1), object(1)\n",
            "memory usage: 2.4+ MB\n"
          ]
        }
      ],
      "source": [
        "merged_data.info()"
      ]
    },
    {
      "cell_type": "markdown",
      "metadata": {
        "id": "_76M4rYdlK78"
      },
      "source": [
        "## Calculate top and bottom decile portfolio returns, their return difference, and t-statistic"
      ]
    },
    {
      "cell_type": "code",
      "execution_count": 19,
      "metadata": {
        "colab": {
          "base_uri": "https://localhost:8080/",
          "height": 293
        },
        "id": "LiGCuUBQlDLW",
        "outputId": "92c6f336-1ca5-4bf9-8a75-1edbc5fb1c79"
      },
      "outputs": [
        {
          "data": {
            "text/html": [
              "<div>\n",
              "<style scoped>\n",
              "    .dataframe tbody tr th:only-of-type {\n",
              "        vertical-align: middle;\n",
              "    }\n",
              "\n",
              "    .dataframe tbody tr th {\n",
              "        vertical-align: top;\n",
              "    }\n",
              "\n",
              "    .dataframe thead th {\n",
              "        text-align: right;\n",
              "    }\n",
              "</style>\n",
              "<table border=\"1\" class=\"dataframe\">\n",
              "  <thead>\n",
              "    <tr style=\"text-align: right;\">\n",
              "      <th></th>\n",
              "      <th></th>\n",
              "      <th>Total-Score</th>\n",
              "      <th>E-Score</th>\n",
              "      <th>S-Score</th>\n",
              "      <th>G-Score</th>\n",
              "      <th>Return</th>\n",
              "    </tr>\n",
              "    <tr>\n",
              "      <th>Date</th>\n",
              "      <th>Decile</th>\n",
              "      <th></th>\n",
              "      <th></th>\n",
              "      <th></th>\n",
              "      <th></th>\n",
              "      <th></th>\n",
              "    </tr>\n",
              "  </thead>\n",
              "  <tbody>\n",
              "    <tr>\n",
              "      <th rowspan=\"5\" valign=\"top\">2014-09-30</th>\n",
              "      <th>0</th>\n",
              "      <td>46.106383</td>\n",
              "      <td>40.085106</td>\n",
              "      <td>45.382979</td>\n",
              "      <td>55.553191</td>\n",
              "      <td>0.056174</td>\n",
              "    </tr>\n",
              "    <tr>\n",
              "      <th>1</th>\n",
              "      <td>50.093023</td>\n",
              "      <td>44.906977</td>\n",
              "      <td>50.232558</td>\n",
              "      <td>57.162791</td>\n",
              "      <td>0.041964</td>\n",
              "    </tr>\n",
              "    <tr>\n",
              "      <th>2</th>\n",
              "      <td>53.073171</td>\n",
              "      <td>47.097561</td>\n",
              "      <td>53.414634</td>\n",
              "      <td>61.658537</td>\n",
              "      <td>0.036039</td>\n",
              "    </tr>\n",
              "    <tr>\n",
              "      <th>3</th>\n",
              "      <td>56.121951</td>\n",
              "      <td>53.414634</td>\n",
              "      <td>54.341463</td>\n",
              "      <td>62.560976</td>\n",
              "      <td>0.040991</td>\n",
              "    </tr>\n",
              "    <tr>\n",
              "      <th>4</th>\n",
              "      <td>58.586207</td>\n",
              "      <td>57.827586</td>\n",
              "      <td>56.586207</td>\n",
              "      <td>63.482759</td>\n",
              "      <td>0.033114</td>\n",
              "    </tr>\n",
              "    <tr>\n",
              "      <th>...</th>\n",
              "      <th>...</th>\n",
              "      <td>...</td>\n",
              "      <td>...</td>\n",
              "      <td>...</td>\n",
              "      <td>...</td>\n",
              "      <td>...</td>\n",
              "    </tr>\n",
              "    <tr>\n",
              "      <th rowspan=\"5\" valign=\"top\">2022-11-30</th>\n",
              "      <th>5</th>\n",
              "      <td>21.440000</td>\n",
              "      <td>5.989048</td>\n",
              "      <td>8.084286</td>\n",
              "      <td>7.366190</td>\n",
              "      <td>-0.026934</td>\n",
              "    </tr>\n",
              "    <tr>\n",
              "      <th>6</th>\n",
              "      <td>23.613182</td>\n",
              "      <td>6.449091</td>\n",
              "      <td>10.008636</td>\n",
              "      <td>7.155909</td>\n",
              "      <td>-0.035209</td>\n",
              "    </tr>\n",
              "    <tr>\n",
              "      <th>7</th>\n",
              "      <td>26.351905</td>\n",
              "      <td>7.956667</td>\n",
              "      <td>10.916190</td>\n",
              "      <td>7.478571</td>\n",
              "      <td>-0.060180</td>\n",
              "    </tr>\n",
              "    <tr>\n",
              "      <th>8</th>\n",
              "      <td>29.285455</td>\n",
              "      <td>11.891364</td>\n",
              "      <td>10.622727</td>\n",
              "      <td>6.771818</td>\n",
              "      <td>-0.050205</td>\n",
              "    </tr>\n",
              "    <tr>\n",
              "      <th>9</th>\n",
              "      <td>34.323333</td>\n",
              "      <td>14.542381</td>\n",
              "      <td>12.370476</td>\n",
              "      <td>7.410952</td>\n",
              "      <td>-0.062688</td>\n",
              "    </tr>\n",
              "  </tbody>\n",
              "</table>\n",
              "<p>990 rows × 5 columns</p>\n",
              "</div>"
            ],
            "text/plain": [
              "                   Total-Score    E-Score    S-Score    G-Score    Return\n",
              "Date       Decile                                                        \n",
              "2014-09-30 0         46.106383  40.085106  45.382979  55.553191  0.056174\n",
              "           1         50.093023  44.906977  50.232558  57.162791  0.041964\n",
              "           2         53.073171  47.097561  53.414634  61.658537  0.036039\n",
              "           3         56.121951  53.414634  54.341463  62.560976  0.040991\n",
              "           4         58.586207  57.827586  56.586207  63.482759  0.033114\n",
              "...                        ...        ...        ...        ...       ...\n",
              "2022-11-30 5         21.440000   5.989048   8.084286   7.366190 -0.026934\n",
              "           6         23.613182   6.449091  10.008636   7.155909 -0.035209\n",
              "           7         26.351905   7.956667  10.916190   7.478571 -0.060180\n",
              "           8         29.285455  11.891364  10.622727   6.771818 -0.050205\n",
              "           9         34.323333  14.542381  12.370476   7.410952 -0.062688\n",
              "\n",
              "[990 rows x 5 columns]"
            ]
          },
          "execution_count": 19,
          "metadata": {},
          "output_type": "execute_result"
        }
      ],
      "source": [
        "# Calculate the average return for each decile portfolio (equal-weighted portfolio)\n",
        "decile_returns = merged_data.groupby(['Date', 'Decile']).mean(numeric_only=True)\n",
        "decile_returns"
      ]
    },
    {
      "cell_type": "code",
      "execution_count": 20,
      "metadata": {
        "colab": {
          "base_uri": "https://localhost:8080/",
          "height": 703
        },
        "id": "ZnykwMDwevOq",
        "outputId": "29da14db-494b-4b40-8d1e-4e1bb5746fa9"
      },
      "outputs": [
        {
          "data": {
            "text/html": [
              "<div>\n",
              "<style scoped>\n",
              "    .dataframe tbody tr th:only-of-type {\n",
              "        vertical-align: middle;\n",
              "    }\n",
              "\n",
              "    .dataframe tbody tr th {\n",
              "        vertical-align: top;\n",
              "    }\n",
              "\n",
              "    .dataframe thead tr th {\n",
              "        text-align: left;\n",
              "    }\n",
              "\n",
              "    .dataframe thead tr:last-of-type th {\n",
              "        text-align: right;\n",
              "    }\n",
              "</style>\n",
              "<table border=\"1\" class=\"dataframe\">\n",
              "  <thead>\n",
              "    <tr>\n",
              "      <th></th>\n",
              "      <th colspan=\"10\" halign=\"left\">Total-Score</th>\n",
              "      <th>...</th>\n",
              "      <th colspan=\"10\" halign=\"left\">Return</th>\n",
              "    </tr>\n",
              "    <tr>\n",
              "      <th>Decile</th>\n",
              "      <th>0</th>\n",
              "      <th>1</th>\n",
              "      <th>2</th>\n",
              "      <th>3</th>\n",
              "      <th>4</th>\n",
              "      <th>5</th>\n",
              "      <th>6</th>\n",
              "      <th>7</th>\n",
              "      <th>8</th>\n",
              "      <th>9</th>\n",
              "      <th>...</th>\n",
              "      <th>0</th>\n",
              "      <th>1</th>\n",
              "      <th>2</th>\n",
              "      <th>3</th>\n",
              "      <th>4</th>\n",
              "      <th>5</th>\n",
              "      <th>6</th>\n",
              "      <th>7</th>\n",
              "      <th>8</th>\n",
              "      <th>9</th>\n",
              "    </tr>\n",
              "    <tr>\n",
              "      <th>Date</th>\n",
              "      <th></th>\n",
              "      <th></th>\n",
              "      <th></th>\n",
              "      <th></th>\n",
              "      <th></th>\n",
              "      <th></th>\n",
              "      <th></th>\n",
              "      <th></th>\n",
              "      <th></th>\n",
              "      <th></th>\n",
              "      <th></th>\n",
              "      <th></th>\n",
              "      <th></th>\n",
              "      <th></th>\n",
              "      <th></th>\n",
              "      <th></th>\n",
              "      <th></th>\n",
              "      <th></th>\n",
              "      <th></th>\n",
              "      <th></th>\n",
              "      <th></th>\n",
              "    </tr>\n",
              "  </thead>\n",
              "  <tbody>\n",
              "    <tr>\n",
              "      <th>2014-09-30</th>\n",
              "      <td>46.106383</td>\n",
              "      <td>50.093023</td>\n",
              "      <td>53.073171</td>\n",
              "      <td>56.121951</td>\n",
              "      <td>58.586207</td>\n",
              "      <td>61.090909</td>\n",
              "      <td>63.976190</td>\n",
              "      <td>66.500000</td>\n",
              "      <td>69.795455</td>\n",
              "      <td>75.777778</td>\n",
              "      <td>...</td>\n",
              "      <td>0.056174</td>\n",
              "      <td>0.041964</td>\n",
              "      <td>0.036039</td>\n",
              "      <td>0.040991</td>\n",
              "      <td>0.033114</td>\n",
              "      <td>0.049496</td>\n",
              "      <td>0.041050</td>\n",
              "      <td>0.045423</td>\n",
              "      <td>0.036112</td>\n",
              "      <td>0.025067</td>\n",
              "    </tr>\n",
              "    <tr>\n",
              "      <th>2014-10-31</th>\n",
              "      <td>46.125000</td>\n",
              "      <td>50.155556</td>\n",
              "      <td>52.607143</td>\n",
              "      <td>55.529412</td>\n",
              "      <td>58.551724</td>\n",
              "      <td>61.021277</td>\n",
              "      <td>63.562500</td>\n",
              "      <td>65.878049</td>\n",
              "      <td>69.300000</td>\n",
              "      <td>74.789474</td>\n",
              "      <td>...</td>\n",
              "      <td>0.037186</td>\n",
              "      <td>0.036195</td>\n",
              "      <td>0.003008</td>\n",
              "      <td>0.038107</td>\n",
              "      <td>0.041980</td>\n",
              "      <td>0.021892</td>\n",
              "      <td>0.023973</td>\n",
              "      <td>0.041112</td>\n",
              "      <td>0.040359</td>\n",
              "      <td>0.038842</td>\n",
              "    </tr>\n",
              "    <tr>\n",
              "      <th>2014-11-30</th>\n",
              "      <td>46.282609</td>\n",
              "      <td>50.024390</td>\n",
              "      <td>53.022222</td>\n",
              "      <td>56.000000</td>\n",
              "      <td>58.888889</td>\n",
              "      <td>61.388889</td>\n",
              "      <td>64.086957</td>\n",
              "      <td>66.902439</td>\n",
              "      <td>70.323529</td>\n",
              "      <td>75.916667</td>\n",
              "      <td>...</td>\n",
              "      <td>-0.006188</td>\n",
              "      <td>0.008656</td>\n",
              "      <td>0.004119</td>\n",
              "      <td>-0.005196</td>\n",
              "      <td>0.008014</td>\n",
              "      <td>0.003843</td>\n",
              "      <td>0.007555</td>\n",
              "      <td>0.014778</td>\n",
              "      <td>0.017923</td>\n",
              "      <td>0.003952</td>\n",
              "    </tr>\n",
              "    <tr>\n",
              "      <th>2014-12-31</th>\n",
              "      <td>46.217391</td>\n",
              "      <td>50.105263</td>\n",
              "      <td>52.976190</td>\n",
              "      <td>55.976190</td>\n",
              "      <td>58.972222</td>\n",
              "      <td>61.432432</td>\n",
              "      <td>64.081633</td>\n",
              "      <td>66.974359</td>\n",
              "      <td>70.457143</td>\n",
              "      <td>76.028571</td>\n",
              "      <td>...</td>\n",
              "      <td>0.005468</td>\n",
              "      <td>-0.015189</td>\n",
              "      <td>-0.029012</td>\n",
              "      <td>-0.043375</td>\n",
              "      <td>-0.007891</td>\n",
              "      <td>-0.017401</td>\n",
              "      <td>-0.016587</td>\n",
              "      <td>-0.040073</td>\n",
              "      <td>-0.001529</td>\n",
              "      <td>-0.030227</td>\n",
              "    </tr>\n",
              "    <tr>\n",
              "      <th>2015-01-31</th>\n",
              "      <td>46.945455</td>\n",
              "      <td>51.078947</td>\n",
              "      <td>53.914286</td>\n",
              "      <td>56.352941</td>\n",
              "      <td>59.716981</td>\n",
              "      <td>62.393939</td>\n",
              "      <td>64.414634</td>\n",
              "      <td>66.868421</td>\n",
              "      <td>70.342857</td>\n",
              "      <td>76.054054</td>\n",
              "      <td>...</td>\n",
              "      <td>0.053208</td>\n",
              "      <td>0.082332</td>\n",
              "      <td>0.048536</td>\n",
              "      <td>0.054844</td>\n",
              "      <td>0.055916</td>\n",
              "      <td>0.050942</td>\n",
              "      <td>0.052532</td>\n",
              "      <td>0.058070</td>\n",
              "      <td>0.055286</td>\n",
              "      <td>0.034847</td>\n",
              "    </tr>\n",
              "  </tbody>\n",
              "</table>\n",
              "<p>5 rows × 50 columns</p>\n",
              "</div>"
            ],
            "text/plain": [
              "           Total-Score                                                          \n",
              "Decile               0          1          2          3          4          5   \n",
              "Date                                                                            \n",
              "2014-09-30   46.106383  50.093023  53.073171  56.121951  58.586207  61.090909  \\\n",
              "2014-10-31   46.125000  50.155556  52.607143  55.529412  58.551724  61.021277   \n",
              "2014-11-30   46.282609  50.024390  53.022222  56.000000  58.888889  61.388889   \n",
              "2014-12-31   46.217391  50.105263  52.976190  55.976190  58.972222  61.432432   \n",
              "2015-01-31   46.945455  51.078947  53.914286  56.352941  59.716981  62.393939   \n",
              "\n",
              "                                                        ...    Return   \n",
              "Decile              6          7          8          9  ...         0   \n",
              "Date                                                    ...             \n",
              "2014-09-30  63.976190  66.500000  69.795455  75.777778  ...  0.056174  \\\n",
              "2014-10-31  63.562500  65.878049  69.300000  74.789474  ...  0.037186   \n",
              "2014-11-30  64.086957  66.902439  70.323529  75.916667  ... -0.006188   \n",
              "2014-12-31  64.081633  66.974359  70.457143  76.028571  ...  0.005468   \n",
              "2015-01-31  64.414634  66.868421  70.342857  76.054054  ...  0.053208   \n",
              "\n",
              "                                                                         \n",
              "Decile             1         2         3         4         5         6   \n",
              "Date                                                                     \n",
              "2014-09-30  0.041964  0.036039  0.040991  0.033114  0.049496  0.041050  \\\n",
              "2014-10-31  0.036195  0.003008  0.038107  0.041980  0.021892  0.023973   \n",
              "2014-11-30  0.008656  0.004119 -0.005196  0.008014  0.003843  0.007555   \n",
              "2014-12-31 -0.015189 -0.029012 -0.043375 -0.007891 -0.017401 -0.016587   \n",
              "2015-01-31  0.082332  0.048536  0.054844  0.055916  0.050942  0.052532   \n",
              "\n",
              "                                          \n",
              "Decile             7         8         9  \n",
              "Date                                      \n",
              "2014-09-30  0.045423  0.036112  0.025067  \n",
              "2014-10-31  0.041112  0.040359  0.038842  \n",
              "2014-11-30  0.014778  0.017923  0.003952  \n",
              "2014-12-31 -0.040073 -0.001529 -0.030227  \n",
              "2015-01-31  0.058070  0.055286  0.034847  \n",
              "\n",
              "[5 rows x 50 columns]"
            ]
          },
          "execution_count": 20,
          "metadata": {},
          "output_type": "execute_result"
        }
      ],
      "source": [
        "# Unstack the decile returns\n",
        "decile_returns_unstacked = decile_returns.unstack(level=-1)\n",
        "decile_returns_unstacked.head()"
      ]
    },
    {
      "cell_type": "code",
      "execution_count": 21,
      "metadata": {
        "id": "5m91UmfSewFY"
      },
      "outputs": [],
      "source": [
        "# Calculate the cumulative returns of the top and bottom portfolios\n",
        "top_cum_ret = (1 + decile_returns_unstacked[('Return', 9)]).cumprod()\n",
        "bottom_cum_ret = (1 + decile_returns_unstacked[('Return', 0)]).cumprod()"
      ]
    },
    {
      "cell_type": "code",
      "execution_count": 22,
      "metadata": {
        "id": "CDMGjyjNjrSo"
      },
      "outputs": [],
      "source": [
        "# Calculate the return difference between the top and bottom portfolios\n",
        "return_diff = decile_returns_unstacked[('Return', 9)] - decile_returns_unstacked[('Return', 0)]\n",
        "\n",
        "# Calculate the standard deviation of the returns for each decile\n",
        "decile_returns_std = merged_data.groupby(['Date', 'Decile'])['Return'].std()\n",
        "decile_returns_std_unstacked = decile_returns_std.unstack(level=-1)\n",
        "\n",
        "# Calculate the t-statistic for the return difference\n",
        "n_top = merged_data[merged_data['Decile'] == 9].shape[0]\n",
        "n_bottom = merged_data[merged_data['Decile'] == 0].shape[0]\n",
        "se_return_diff = np.sqrt((decile_returns_std_unstacked[9]**2/n_top) + (decile_returns_std_unstacked[0]**2/n_bottom))\n",
        "t_stat = return_diff/se_return_diff"
      ]
    },
    {
      "cell_type": "code",
      "execution_count": 23,
      "metadata": {
        "colab": {
          "base_uri": "https://localhost:8080/"
        },
        "id": "1nbU08W-1ljM",
        "outputId": "fc75b059-f83e-46cc-ebe7-6ccc642ae998"
      },
      "outputs": [
        {
          "name": "stdout",
          "output_type": "stream",
          "text": [
            "Summary statistics for the top portfolio:\n",
            "count    99.000000\n",
            "mean      0.015529\n",
            "std       0.060372\n",
            "min      -0.239362\n",
            "25%      -0.008329\n",
            "50%       0.014718\n",
            "75%       0.040317\n",
            "max       0.230885\n",
            "Name: (Return, 9), dtype: float64\n",
            "----------------------------------------\n",
            "Summary statistics for the bottom portfolio:\n",
            "count    99.000000\n",
            "mean      0.011586\n",
            "std       0.051423\n",
            "min      -0.186615\n",
            "25%      -0.008181\n",
            "50%       0.014530\n",
            "75%       0.041965\n",
            "max       0.149056\n",
            "Name: (Return, 0), dtype: float64\n"
          ]
        }
      ],
      "source": [
        "# Calculate summary statistics for the top and bottom portfolios\n",
        "top_portfolio_stats = decile_returns_unstacked[('Return', 9)].describe()\n",
        "bottom_portfolio_stats = decile_returns_unstacked[('Return', 0)].describe()\n",
        "\n",
        "# Print the results\n",
        "print('Summary statistics for the top portfolio:')\n",
        "print(top_portfolio_stats)\n",
        "print('----------------------------------------')\n",
        "print('Summary statistics for the bottom portfolio:')\n",
        "print(bottom_portfolio_stats)"
      ]
    },
    {
      "cell_type": "code",
      "execution_count": 24,
      "metadata": {
        "colab": {
          "base_uri": "https://localhost:8080/",
          "height": 143
        },
        "id": "eoLhUgIG1l9O",
        "outputId": "6268a703-6f50-42f5-de77-181b66cd6fd1"
      },
      "outputs": [
        {
          "data": {
            "text/html": [
              "<div>\n",
              "<style scoped>\n",
              "    .dataframe tbody tr th:only-of-type {\n",
              "        vertical-align: middle;\n",
              "    }\n",
              "\n",
              "    .dataframe tbody tr th {\n",
              "        vertical-align: top;\n",
              "    }\n",
              "\n",
              "    .dataframe thead th {\n",
              "        text-align: right;\n",
              "    }\n",
              "</style>\n",
              "<table border=\"1\" class=\"dataframe\">\n",
              "  <thead>\n",
              "    <tr style=\"text-align: right;\">\n",
              "      <th></th>\n",
              "      <th>Portfolio</th>\n",
              "      <th>Average Return</th>\n",
              "      <th>Standard Deviation</th>\n",
              "      <th>T-Statistic</th>\n",
              "    </tr>\n",
              "  </thead>\n",
              "  <tbody>\n",
              "    <tr>\n",
              "      <th>0</th>\n",
              "      <td>TOP</td>\n",
              "      <td>0.015529</td>\n",
              "      <td>0.074081</td>\n",
              "      <td>-</td>\n",
              "    </tr>\n",
              "    <tr>\n",
              "      <th>1</th>\n",
              "      <td>BOT</td>\n",
              "      <td>0.011586</td>\n",
              "      <td>0.064602</td>\n",
              "      <td>-</td>\n",
              "    </tr>\n",
              "    <tr>\n",
              "      <th>2</th>\n",
              "      <td>DIF</td>\n",
              "      <td>0.003943</td>\n",
              "      <td>0.031596</td>\n",
              "      <td>2.491995</td>\n",
              "    </tr>\n",
              "  </tbody>\n",
              "</table>\n",
              "</div>"
            ],
            "text/plain": [
              "  Portfolio  Average Return  Standard Deviation T-Statistic\n",
              "0       TOP        0.015529            0.074081           -\n",
              "1       BOT        0.011586            0.064602           -\n",
              "2       DIF        0.003943            0.031596    2.491995"
            ]
          },
          "execution_count": 24,
          "metadata": {},
          "output_type": "execute_result"
        }
      ],
      "source": [
        "# Calculate the average returns\n",
        "top_average_ret = decile_returns_unstacked[('Return', 9)].mean()\n",
        "bottom_average_ret = decile_returns_unstacked[('Return', 0)].mean()\n",
        "\n",
        "# Calculate the standard deviation of returns\n",
        "top_std = decile_returns_std_unstacked[9].mean()\n",
        "bottom_std = decile_returns_std_unstacked[0].mean()\n",
        "\n",
        "# Calculate the average return difference\n",
        "average_return_diff = return_diff.mean()\n",
        "\n",
        "# Calculate the standard deviation of the return difference\n",
        "std_return_diff = return_diff.std()\n",
        "\n",
        "# Calculate the t-statistic using the average return difference and standard error\n",
        "average_se_return_diff = se_return_diff.mean()\n",
        "average_t_stat = average_return_diff / average_se_return_diff\n",
        "\n",
        "# Create the summary table\n",
        "summary_table = pd.DataFrame({\n",
        "    'Portfolio': ['TOP', 'BOT', 'DIF'],\n",
        "    'Average Return': [top_average_ret, bottom_average_ret, average_return_diff],\n",
        "    'Standard Deviation': [top_std, bottom_std, std_return_diff],\n",
        "    'T-Statistic': ['-', '-', average_t_stat]\n",
        "})\n",
        "\n",
        "summary_table"
      ]
    },
    {
      "cell_type": "markdown",
      "metadata": {
        "id": "gLjfs2Hn5xdS"
      },
      "source": [
        "## Calculate CAPM alpha"
      ]
    },
    {
      "cell_type": "code",
      "execution_count": 25,
      "metadata": {
        "colab": {
          "base_uri": "https://localhost:8080/"
        },
        "id": "hXSN-W0w6nJY",
        "outputId": "2f035feb-65eb-475c-f06c-694ba90882da"
      },
      "outputs": [
        {
          "data": {
            "text/plain": [
              "TB3MS    1\n",
              "dtype: int64"
            ]
          },
          "execution_count": 25,
          "metadata": {},
          "output_type": "execute_result"
        }
      ],
      "source": [
        "# Retrieve historical risk-free rate from fred\n",
        "rf = web.DataReader('TB3MS', 'fred',start=earliest_date,end=latest_date)\n",
        "\n",
        "# Convert to monthly rates\n",
        "rf = (1 + (rf / 100)) ** (1 / 12) - 1 \n",
        "rf = rf.resample('M').last().shift(-1)\n",
        "\n",
        "# Check for missing values\n",
        "rf.isnull().sum()"
      ]
    },
    {
      "cell_type": "code",
      "execution_count": 26,
      "metadata": {
        "colab": {
          "base_uri": "https://localhost:8080/",
          "height": 454
        },
        "id": "iU32gTG3TzZJ",
        "outputId": "1ca1eef7-958f-40a7-af9d-63c748e09682"
      },
      "outputs": [
        {
          "data": {
            "text/html": [
              "<div>\n",
              "<style scoped>\n",
              "    .dataframe tbody tr th:only-of-type {\n",
              "        vertical-align: middle;\n",
              "    }\n",
              "\n",
              "    .dataframe tbody tr th {\n",
              "        vertical-align: top;\n",
              "    }\n",
              "\n",
              "    .dataframe thead th {\n",
              "        text-align: right;\n",
              "    }\n",
              "</style>\n",
              "<table border=\"1\" class=\"dataframe\">\n",
              "  <thead>\n",
              "    <tr style=\"text-align: right;\">\n",
              "      <th></th>\n",
              "      <th>TB3MS</th>\n",
              "    </tr>\n",
              "    <tr>\n",
              "      <th>DATE</th>\n",
              "      <th></th>\n",
              "    </tr>\n",
              "  </thead>\n",
              "  <tbody>\n",
              "    <tr>\n",
              "      <th>2014-09-30</th>\n",
              "      <td>0.000017</td>\n",
              "    </tr>\n",
              "    <tr>\n",
              "      <th>2014-10-31</th>\n",
              "      <td>0.000017</td>\n",
              "    </tr>\n",
              "    <tr>\n",
              "      <th>2014-11-30</th>\n",
              "      <td>0.000025</td>\n",
              "    </tr>\n",
              "    <tr>\n",
              "      <th>2014-12-31</th>\n",
              "      <td>0.000025</td>\n",
              "    </tr>\n",
              "    <tr>\n",
              "      <th>2015-01-31</th>\n",
              "      <td>0.000017</td>\n",
              "    </tr>\n",
              "  </tbody>\n",
              "</table>\n",
              "</div>"
            ],
            "text/plain": [
              "               TB3MS\n",
              "DATE                \n",
              "2014-09-30  0.000017\n",
              "2014-10-31  0.000017\n",
              "2014-11-30  0.000025\n",
              "2014-12-31  0.000025\n",
              "2015-01-31  0.000017"
            ]
          },
          "execution_count": 26,
          "metadata": {},
          "output_type": "execute_result"
        }
      ],
      "source": [
        "rf.head()"
      ]
    },
    {
      "cell_type": "code",
      "execution_count": 27,
      "metadata": {
        "colab": {
          "base_uri": "https://localhost:8080/"
        },
        "id": "m4mt6ABj95YG",
        "outputId": "2fdd4b09-fb1c-4a83-8148-993cb3ea849a"
      },
      "outputs": [
        {
          "name": "stdout",
          "output_type": "stream",
          "text": [
            "[*********************100%***********************]  1 of 1 completed\n"
          ]
        },
        {
          "data": {
            "text/plain": [
              "1"
            ]
          },
          "execution_count": 27,
          "metadata": {},
          "output_type": "execute_result"
        }
      ],
      "source": [
        "# Retrieve market returns\n",
        "sp500 = yf.download('SPY',start=earliest_date, end=latest_date) \n",
        "\n",
        "# Convert to monthly and shift by one period to get next month's return\n",
        "market_ret = sp500['Adj Close'].resample('M').last().pct_change().shift(-1)[0:]\n",
        "\n",
        "# Check for missing values\n",
        "market_ret.isnull().sum()"
      ]
    },
    {
      "cell_type": "code",
      "execution_count": 28,
      "metadata": {
        "colab": {
          "base_uri": "https://localhost:8080/"
        },
        "id": "K75hdPAoUCxi",
        "outputId": "6f1b4147-7549-4c09-e6ca-d0d28723d937"
      },
      "outputs": [
        {
          "data": {
            "text/plain": [
              "Date\n",
              "2014-09-30    0.023551\n",
              "2014-10-31    0.027472\n",
              "2014-11-30   -0.002537\n",
              "2014-12-31   -0.029629\n",
              "2015-01-31    0.056204\n",
              "Freq: M, Name: Adj Close, dtype: float64"
            ]
          },
          "execution_count": 28,
          "metadata": {},
          "output_type": "execute_result"
        }
      ],
      "source": [
        "market_ret.head()"
      ]
    },
    {
      "cell_type": "code",
      "execution_count": 29,
      "metadata": {
        "colab": {
          "base_uri": "https://localhost:8080/",
          "height": 423
        },
        "id": "_LvtrbUxRf-1",
        "outputId": "560c671e-8501-4892-bb08-8337cdcc2055"
      },
      "outputs": [
        {
          "data": {
            "text/html": [
              "<div>\n",
              "<style scoped>\n",
              "    .dataframe tbody tr th:only-of-type {\n",
              "        vertical-align: middle;\n",
              "    }\n",
              "\n",
              "    .dataframe tbody tr th {\n",
              "        vertical-align: top;\n",
              "    }\n",
              "\n",
              "    .dataframe thead th {\n",
              "        text-align: right;\n",
              "    }\n",
              "</style>\n",
              "<table border=\"1\" class=\"dataframe\">\n",
              "  <thead>\n",
              "    <tr style=\"text-align: right;\">\n",
              "      <th></th>\n",
              "      <th>Top_Returns</th>\n",
              "      <th>Bottom_Returns</th>\n",
              "      <th>Market_Returns</th>\n",
              "      <th>Risk_Free_Rates</th>\n",
              "      <th>Top_Excess_Returns</th>\n",
              "      <th>Bottom_Excess_Returns</th>\n",
              "      <th>Market_Excess_Returns</th>\n",
              "    </tr>\n",
              "  </thead>\n",
              "  <tbody>\n",
              "    <tr>\n",
              "      <th>2014-09-30</th>\n",
              "      <td>0.025067</td>\n",
              "      <td>0.056174</td>\n",
              "      <td>0.023551</td>\n",
              "      <td>0.000017</td>\n",
              "      <td>0.025050</td>\n",
              "      <td>0.056157</td>\n",
              "      <td>0.023534</td>\n",
              "    </tr>\n",
              "    <tr>\n",
              "      <th>2014-10-31</th>\n",
              "      <td>0.038842</td>\n",
              "      <td>0.037186</td>\n",
              "      <td>0.027472</td>\n",
              "      <td>0.000017</td>\n",
              "      <td>0.038825</td>\n",
              "      <td>0.037170</td>\n",
              "      <td>0.027455</td>\n",
              "    </tr>\n",
              "    <tr>\n",
              "      <th>2014-11-30</th>\n",
              "      <td>0.003952</td>\n",
              "      <td>-0.006188</td>\n",
              "      <td>-0.002537</td>\n",
              "      <td>0.000025</td>\n",
              "      <td>0.003927</td>\n",
              "      <td>-0.006213</td>\n",
              "      <td>-0.002562</td>\n",
              "    </tr>\n",
              "    <tr>\n",
              "      <th>2014-12-31</th>\n",
              "      <td>-0.030227</td>\n",
              "      <td>0.005468</td>\n",
              "      <td>-0.029629</td>\n",
              "      <td>0.000025</td>\n",
              "      <td>-0.030252</td>\n",
              "      <td>0.005443</td>\n",
              "      <td>-0.029654</td>\n",
              "    </tr>\n",
              "    <tr>\n",
              "      <th>2015-01-31</th>\n",
              "      <td>0.034847</td>\n",
              "      <td>0.053208</td>\n",
              "      <td>0.056204</td>\n",
              "      <td>0.000017</td>\n",
              "      <td>0.034830</td>\n",
              "      <td>0.053191</td>\n",
              "      <td>0.056188</td>\n",
              "    </tr>\n",
              "  </tbody>\n",
              "</table>\n",
              "</div>"
            ],
            "text/plain": [
              "            Top_Returns  Bottom_Returns  Market_Returns  Risk_Free_Rates   \n",
              "2014-09-30     0.025067        0.056174        0.023551         0.000017  \\\n",
              "2014-10-31     0.038842        0.037186        0.027472         0.000017   \n",
              "2014-11-30     0.003952       -0.006188       -0.002537         0.000025   \n",
              "2014-12-31    -0.030227        0.005468       -0.029629         0.000025   \n",
              "2015-01-31     0.034847        0.053208        0.056204         0.000017   \n",
              "\n",
              "            Top_Excess_Returns  Bottom_Excess_Returns  Market_Excess_Returns  \n",
              "2014-09-30            0.025050               0.056157               0.023534  \n",
              "2014-10-31            0.038825               0.037170               0.027455  \n",
              "2014-11-30            0.003927              -0.006213              -0.002562  \n",
              "2014-12-31           -0.030252               0.005443              -0.029654  \n",
              "2015-01-31            0.034830               0.053191               0.056188  "
            ]
          },
          "execution_count": 29,
          "metadata": {},
          "output_type": "execute_result"
        }
      ],
      "source": [
        "# Merge top decile returns, bottom decile returns, market returns, and risk-free rates\n",
        "all = pd.concat([\n",
        "    decile_returns_unstacked[('Return', 9)].to_frame('Top_Returns'),\n",
        "    decile_returns_unstacked[('Return', 0)].to_frame('Bottom_Returns'),\n",
        "    market_ret.to_frame('Market_Returns'),\n",
        "    rf.rename(columns = {'TB3MS':'Risk_Free_Rates'})\n",
        "], axis=1)\n",
        "\n",
        "# Calculate excess returns\n",
        "all['Top_Excess_Returns'] = all['Top_Returns'] - all['Risk_Free_Rates']\n",
        "all['Bottom_Excess_Returns'] = all['Bottom_Returns'] - all['Risk_Free_Rates']\n",
        "all['Market_Excess_Returns'] = all['Market_Returns'] - all['Risk_Free_Rates']\n",
        "\n",
        "all.head()"
      ]
    },
    {
      "cell_type": "code",
      "execution_count": 30,
      "metadata": {
        "colab": {
          "base_uri": "https://localhost:8080/",
          "height": 423
        },
        "id": "Ju1vQ10BUkox",
        "outputId": "3f9195f9-0d93-4b7d-df5d-cd7872a96702"
      },
      "outputs": [
        {
          "data": {
            "text/plain": [
              "(99, 7)"
            ]
          },
          "execution_count": 30,
          "metadata": {},
          "output_type": "execute_result"
        }
      ],
      "source": [
        "# Drop missing values\n",
        "all = all.dropna()\n",
        "all.shape"
      ]
    },
    {
      "cell_type": "code",
      "execution_count": 31,
      "metadata": {
        "colab": {
          "base_uri": "https://localhost:8080/"
        },
        "id": "Sv7fL1Q9_jMg",
        "outputId": "2a60b399-5a4c-4277-cef4-2ac0def84723"
      },
      "outputs": [
        {
          "name": "stdout",
          "output_type": "stream",
          "text": [
            "                            OLS Regression Results                            \n",
            "==============================================================================\n",
            "Dep. Variable:     Top_Excess_Returns   R-squared:                       0.759\n",
            "Model:                            OLS   Adj. R-squared:                  0.756\n",
            "Method:                 Least Squares   F-statistic:                     305.2\n",
            "Date:                Thu, 20 Jul 2023   Prob (F-statistic):           1.02e-31\n",
            "Time:                        16:42:51   Log-Likelihood:                 208.26\n",
            "No. Observations:                  99   AIC:                            -412.5\n",
            "Df Residuals:                      97   BIC:                            -407.3\n",
            "Df Model:                           1                                         \n",
            "Covariance Type:            nonrobust                                         \n",
            "=========================================================================================\n",
            "                            coef    std err          t      P>|t|      [0.025      0.975]\n",
            "-----------------------------------------------------------------------------------------\n",
            "const                     0.0049      0.003      1.599      0.113      -0.001       0.011\n",
            "Market_Excess_Returns     1.1600      0.066     17.471      0.000       1.028       1.292\n",
            "==============================================================================\n",
            "Omnibus:                       16.005   Durbin-Watson:                   1.681\n",
            "Prob(Omnibus):                  0.000   Jarque-Bera (JB):               24.904\n",
            "Skew:                           0.710   Prob(JB):                     3.91e-06\n",
            "Kurtosis:                       5.006   Cond. No.                         22.1\n",
            "==============================================================================\n",
            "\n",
            "Notes:\n",
            "[1] Standard Errors assume that the covariance matrix of the errors is correctly specified.\n",
            "                              OLS Regression Results                             \n",
            "=================================================================================\n",
            "Dep. Variable:     Bottom_Excess_Returns   R-squared:                       0.892\n",
            "Model:                               OLS   Adj. R-squared:                  0.891\n",
            "Method:                    Least Squares   F-statistic:                     802.5\n",
            "Date:                   Thu, 20 Jul 2023   Prob (F-statistic):           1.05e-48\n",
            "Time:                           16:42:51   Log-Likelihood:                 263.88\n",
            "No. Observations:                     99   AIC:                            -523.8\n",
            "Df Residuals:                         97   BIC:                            -518.6\n",
            "Df Model:                              1                                         \n",
            "Covariance Type:               nonrobust                                         \n",
            "=========================================================================================\n",
            "                            coef    std err          t      P>|t|      [0.025      0.975]\n",
            "-----------------------------------------------------------------------------------------\n",
            "const                     0.0017      0.002      0.967      0.336      -0.002       0.005\n",
            "Market_Excess_Returns     1.0723      0.038     28.329      0.000       0.997       1.147\n",
            "==============================================================================\n",
            "Omnibus:                        2.220   Durbin-Watson:                   2.267\n",
            "Prob(Omnibus):                  0.330   Jarque-Bera (JB):                1.764\n",
            "Skew:                          -0.116   Prob(JB):                        0.414\n",
            "Kurtosis:                       3.611   Cond. No.                         22.1\n",
            "==============================================================================\n",
            "\n",
            "Notes:\n",
            "[1] Standard Errors assume that the covariance matrix of the errors is correctly specified.\n"
          ]
        }
      ],
      "source": [
        "# Run linear regression to estimate CAPM alpha for top and bottom decile portfolios\n",
        "top_X = sm.add_constant(all['Market_Excess_Returns'])\n",
        "top_model = sm.OLS(all['Top_Excess_Returns'], top_X).fit()\n",
        "top_alpha = top_model.params['const']\n",
        "\n",
        "bottom_X = sm.add_constant(all['Market_Excess_Returns'])\n",
        "bottom_model = sm.OLS(all['Bottom_Excess_Returns'], bottom_X).fit()\n",
        "bottom_alpha = bottom_model.params['const']\n",
        "\n",
        "print(top_model.summary())\n",
        "\n",
        "print(bottom_model.summary())"
      ]
    },
    {
      "cell_type": "markdown",
      "metadata": {},
      "source": [
        "The R-squared values suggest that the CAPM model explains 76% of the variance in the top portfolio returns and 89% of the variance in the bottom portfolio returns. This indicates a good fit for the model, particularly for the bottom portfolio. The F-statistics are large and far above 1, indicating that the overall model is significant for both portfolios. However, the p- values for the alphas (intercepts) in both models are above 0.05, suggesting that the CAPM alpha is not significantly different from zero for either portfolio. This means that, according to the CAPM model, neither portfolio generates significant abnormal returns after adjusting for market risk."
      ]
    },
    {
      "cell_type": "code",
      "execution_count": 32,
      "metadata": {
        "id": "j6v2Dz2VA7M0"
      },
      "outputs": [],
      "source": [
        "# Calculate alpha difference\n",
        "alpha_diff = top_alpha - bottom_alpha\n",
        "\n",
        "# Calculate standard errors of alphas\n",
        "top_alpha_se = top_model.bse['const']\n",
        "bottom_alpha_se = bottom_model.bse['const']\n",
        "\n",
        "# Calculate standard error of the difference\n",
        "se_alpha_diff = np.sqrt(top_alpha_se**2 + bottom_alpha_se**2)\n",
        "\n",
        "# Calculate t-statistic\n",
        "t_stat_alpha = alpha_diff / se_alpha_diff"
      ]
    },
    {
      "cell_type": "code",
      "execution_count": 33,
      "metadata": {
        "colab": {
          "base_uri": "https://localhost:8080/",
          "height": 143
        },
        "id": "WXZc8zoAZlD5",
        "outputId": "20b714e9-40a9-4996-9771-b678877e56bb"
      },
      "outputs": [
        {
          "data": {
            "text/html": [
              "<div>\n",
              "<style scoped>\n",
              "    .dataframe tbody tr th:only-of-type {\n",
              "        vertical-align: middle;\n",
              "    }\n",
              "\n",
              "    .dataframe tbody tr th {\n",
              "        vertical-align: top;\n",
              "    }\n",
              "\n",
              "    .dataframe thead th {\n",
              "        text-align: right;\n",
              "    }\n",
              "</style>\n",
              "<table border=\"1\" class=\"dataframe\">\n",
              "  <thead>\n",
              "    <tr style=\"text-align: right;\">\n",
              "      <th></th>\n",
              "      <th>Portfolio</th>\n",
              "      <th>Average Return</th>\n",
              "      <th>Standard Deviation</th>\n",
              "      <th>T-Statistic</th>\n",
              "      <th>CAPM Alpha</th>\n",
              "      <th>T-Statistic(Alpha)</th>\n",
              "    </tr>\n",
              "  </thead>\n",
              "  <tbody>\n",
              "    <tr>\n",
              "      <th>0</th>\n",
              "      <td>TOP</td>\n",
              "      <td>0.015529</td>\n",
              "      <td>0.074081</td>\n",
              "      <td>-</td>\n",
              "      <td>0.004879</td>\n",
              "      <td>-</td>\n",
              "    </tr>\n",
              "    <tr>\n",
              "      <th>1</th>\n",
              "      <td>BOT</td>\n",
              "      <td>0.011586</td>\n",
              "      <td>0.064602</td>\n",
              "      <td>-</td>\n",
              "      <td>0.001682</td>\n",
              "      <td>-</td>\n",
              "    </tr>\n",
              "    <tr>\n",
              "      <th>2</th>\n",
              "      <td>DIF</td>\n",
              "      <td>0.003943</td>\n",
              "      <td>0.031596</td>\n",
              "      <td>2.491995</td>\n",
              "      <td>0.003197</td>\n",
              "      <td>0.910388</td>\n",
              "    </tr>\n",
              "  </tbody>\n",
              "</table>\n",
              "</div>"
            ],
            "text/plain": [
              "  Portfolio  Average Return  Standard Deviation T-Statistic  CAPM Alpha   \n",
              "0       TOP        0.015529            0.074081           -    0.004879  \\\n",
              "1       BOT        0.011586            0.064602           -    0.001682   \n",
              "2       DIF        0.003943            0.031596    2.491995    0.003197   \n",
              "\n",
              "  T-Statistic(Alpha)  \n",
              "0                  -  \n",
              "1                  -  \n",
              "2           0.910388  "
            ]
          },
          "execution_count": 33,
          "metadata": {},
          "output_type": "execute_result"
        }
      ],
      "source": [
        "# Add to summary table\n",
        "summary_table['CAPM Alpha'] = [top_alpha, bottom_alpha, alpha_diff]\n",
        "summary_table['T-Statistic(Alpha)'] = ['-', '-', t_stat_alpha]\n",
        "\n",
        "summary_table"
      ]
    },
    {
      "cell_type": "code",
      "execution_count": 34,
      "metadata": {
        "colab": {
          "base_uri": "https://localhost:8080/"
        },
        "id": "xzS5dakjaCuf",
        "outputId": "e27aabc5-885f-46f6-ae20-97d5cb54f638"
      },
      "outputs": [
        {
          "name": "stdout",
          "output_type": "stream",
          "text": [
            "t-statistic for return difference: 2.4919949937976598\n",
            "t-statistic for alpha difference: 0.91038809242106\n"
          ]
        }
      ],
      "source": [
        "print('t-statistic for return difference: ' + str(average_t_stat))\n",
        "print('t-statistic for alpha difference: ' + str(t_stat_alpha))"
      ]
    },
    {
      "cell_type": "markdown",
      "metadata": {
        "id": "LL2oRNhOdmdI"
      },
      "source": [
        "## Calculate information ratio"
      ]
    },
    {
      "cell_type": "code",
      "execution_count": 35,
      "metadata": {
        "id": "lFUbF140dtu4"
      },
      "outputs": [],
      "source": [
        "top_ir = all['Top_Excess_Returns'].mean() / all['Top_Excess_Returns'].std()\n",
        "bottom_ir = all['Bottom_Excess_Returns'].mean() / all['Bottom_Excess_Returns'].std()\n",
        "ir_diff = top_ir - bottom_ir"
      ]
    },
    {
      "cell_type": "code",
      "execution_count": 36,
      "metadata": {
        "colab": {
          "base_uri": "https://localhost:8080/",
          "height": 174
        },
        "id": "SOGlCNuifdcV",
        "outputId": "678526a1-9ead-425f-cc1d-401419ca747b"
      },
      "outputs": [
        {
          "data": {
            "text/html": [
              "<div>\n",
              "<style scoped>\n",
              "    .dataframe tbody tr th:only-of-type {\n",
              "        vertical-align: middle;\n",
              "    }\n",
              "\n",
              "    .dataframe tbody tr th {\n",
              "        vertical-align: top;\n",
              "    }\n",
              "\n",
              "    .dataframe thead th {\n",
              "        text-align: right;\n",
              "    }\n",
              "</style>\n",
              "<table border=\"1\" class=\"dataframe\">\n",
              "  <thead>\n",
              "    <tr style=\"text-align: right;\">\n",
              "      <th></th>\n",
              "      <th>Average Return</th>\n",
              "      <th>Standard Deviation</th>\n",
              "      <th>T-Statistic</th>\n",
              "      <th>CAPM Alpha</th>\n",
              "      <th>T-Statistic(Alpha)</th>\n",
              "      <th>Information Ratio</th>\n",
              "    </tr>\n",
              "    <tr>\n",
              "      <th>Portfolio</th>\n",
              "      <th></th>\n",
              "      <th></th>\n",
              "      <th></th>\n",
              "      <th></th>\n",
              "      <th></th>\n",
              "      <th></th>\n",
              "    </tr>\n",
              "  </thead>\n",
              "  <tbody>\n",
              "    <tr>\n",
              "      <th>TOP</th>\n",
              "      <td>0.015529</td>\n",
              "      <td>0.074081</td>\n",
              "      <td>-</td>\n",
              "      <td>0.004879</td>\n",
              "      <td>-</td>\n",
              "      <td>0.244168</td>\n",
              "    </tr>\n",
              "    <tr>\n",
              "      <th>BOT</th>\n",
              "      <td>0.011586</td>\n",
              "      <td>0.064602</td>\n",
              "      <td>-</td>\n",
              "      <td>0.001682</td>\n",
              "      <td>-</td>\n",
              "      <td>0.209851</td>\n",
              "    </tr>\n",
              "    <tr>\n",
              "      <th>DIF</th>\n",
              "      <td>0.003943</td>\n",
              "      <td>0.031596</td>\n",
              "      <td>2.491995</td>\n",
              "      <td>0.003197</td>\n",
              "      <td>0.910388</td>\n",
              "      <td>0.034317</td>\n",
              "    </tr>\n",
              "  </tbody>\n",
              "</table>\n",
              "</div>"
            ],
            "text/plain": [
              "           Average Return  Standard Deviation T-Statistic  CAPM Alpha   \n",
              "Portfolio                                                               \n",
              "TOP              0.015529            0.074081           -    0.004879  \\\n",
              "BOT              0.011586            0.064602           -    0.001682   \n",
              "DIF              0.003943            0.031596    2.491995    0.003197   \n",
              "\n",
              "          T-Statistic(Alpha)  Information Ratio  \n",
              "Portfolio                                        \n",
              "TOP                        -           0.244168  \n",
              "BOT                        -           0.209851  \n",
              "DIF                 0.910388           0.034317  "
            ]
          },
          "execution_count": 36,
          "metadata": {},
          "output_type": "execute_result"
        }
      ],
      "source": [
        "# Add to summary table\n",
        "summary_table['Information Ratio'] = [top_ir, bottom_ir, ir_diff]\n",
        "summary_table.set_index('Portfolio')"
      ]
    },
    {
      "cell_type": "markdown",
      "metadata": {
        "id": "v1fjd-wibpvS"
      },
      "source": [
        "## Calculate 5-factor alpha"
      ]
    },
    {
      "cell_type": "code",
      "execution_count": 37,
      "metadata": {
        "colab": {
          "base_uri": "https://localhost:8080/",
          "height": 423
        },
        "id": "jC_mUEMwbwUy",
        "outputId": "bfb650d4-7605-42d2-8dc6-d61be83a1297"
      },
      "outputs": [
        {
          "name": "stderr",
          "output_type": "stream",
          "text": [
            "/var/folders/47/h5_s7vcs6dqdzfk1gltbb0p80000gn/T/ipykernel_65899/683635668.py:6: FutureWarning: The argument 'date_parser' is deprecated and will be removed in a future version. Please use 'date_format' instead, or read your data in as 'object' dtype and then call 'to_datetime'.\n",
            "  ff5_data = pd.read_csv('data/FF_5_Factors.csv', header=2, parse_dates=[0],\n"
          ]
        },
        {
          "data": {
            "text/html": [
              "<div>\n",
              "<style scoped>\n",
              "    .dataframe tbody tr th:only-of-type {\n",
              "        vertical-align: middle;\n",
              "    }\n",
              "\n",
              "    .dataframe tbody tr th {\n",
              "        vertical-align: top;\n",
              "    }\n",
              "\n",
              "    .dataframe thead th {\n",
              "        text-align: right;\n",
              "    }\n",
              "</style>\n",
              "<table border=\"1\" class=\"dataframe\">\n",
              "  <thead>\n",
              "    <tr style=\"text-align: right;\">\n",
              "      <th></th>\n",
              "      <th>Mkt-RF</th>\n",
              "      <th>SMB</th>\n",
              "      <th>HML</th>\n",
              "      <th>RMW</th>\n",
              "      <th>CMA</th>\n",
              "      <th>RF</th>\n",
              "    </tr>\n",
              "  </thead>\n",
              "  <tbody>\n",
              "    <tr>\n",
              "      <th>1963-07-01</th>\n",
              "      <td>-0.39</td>\n",
              "      <td>-0.41</td>\n",
              "      <td>-0.97</td>\n",
              "      <td>0.68</td>\n",
              "      <td>-1.18</td>\n",
              "      <td>0.27</td>\n",
              "    </tr>\n",
              "    <tr>\n",
              "      <th>1963-08-01</th>\n",
              "      <td>5.07</td>\n",
              "      <td>-0.80</td>\n",
              "      <td>1.80</td>\n",
              "      <td>0.36</td>\n",
              "      <td>-0.35</td>\n",
              "      <td>0.25</td>\n",
              "    </tr>\n",
              "    <tr>\n",
              "      <th>1963-09-01</th>\n",
              "      <td>-1.57</td>\n",
              "      <td>-0.52</td>\n",
              "      <td>0.13</td>\n",
              "      <td>-0.71</td>\n",
              "      <td>0.29</td>\n",
              "      <td>0.27</td>\n",
              "    </tr>\n",
              "    <tr>\n",
              "      <th>1963-10-01</th>\n",
              "      <td>2.53</td>\n",
              "      <td>-1.39</td>\n",
              "      <td>-0.10</td>\n",
              "      <td>2.80</td>\n",
              "      <td>-2.01</td>\n",
              "      <td>0.29</td>\n",
              "    </tr>\n",
              "    <tr>\n",
              "      <th>1963-11-01</th>\n",
              "      <td>-0.85</td>\n",
              "      <td>-0.88</td>\n",
              "      <td>1.75</td>\n",
              "      <td>-0.51</td>\n",
              "      <td>2.24</td>\n",
              "      <td>0.27</td>\n",
              "    </tr>\n",
              "  </tbody>\n",
              "</table>\n",
              "</div>"
            ],
            "text/plain": [
              "            Mkt-RF   SMB   HML   RMW   CMA    RF\n",
              "1963-07-01   -0.39 -0.41 -0.97  0.68 -1.18  0.27\n",
              "1963-08-01    5.07 -0.80  1.80  0.36 -0.35  0.25\n",
              "1963-09-01   -1.57 -0.52  0.13 -0.71  0.29  0.27\n",
              "1963-10-01    2.53 -1.39 -0.10  2.80 -2.01  0.29\n",
              "1963-11-01   -0.85 -0.88  1.75 -0.51  2.24  0.27"
            ]
          },
          "execution_count": 37,
          "metadata": {},
          "output_type": "execute_result"
        }
      ],
      "source": [
        "# Date parser function\n",
        "def parse_date(date_str):\n",
        "    return pd.to_datetime(date_str, format='%Y%m')\n",
        "\n",
        "# Read the Fama French 5-factor data\n",
        "ff5_data = pd.read_csv('data/FF_5_Factors.csv', header=2, parse_dates=[0], \n",
        "                       index_col=0, date_parser=parse_date, nrows=716)\n",
        "\n",
        "ff5_data.head()"
      ]
    },
    {
      "cell_type": "code",
      "execution_count": 38,
      "metadata": {
        "colab": {
          "base_uri": "https://localhost:8080/",
          "height": 423
        },
        "id": "fLk9frnhfLcG",
        "outputId": "86629852-2c9c-4936-eb7d-dbb1520271de"
      },
      "outputs": [
        {
          "data": {
            "text/html": [
              "<div>\n",
              "<style scoped>\n",
              "    .dataframe tbody tr th:only-of-type {\n",
              "        vertical-align: middle;\n",
              "    }\n",
              "\n",
              "    .dataframe tbody tr th {\n",
              "        vertical-align: top;\n",
              "    }\n",
              "\n",
              "    .dataframe thead th {\n",
              "        text-align: right;\n",
              "    }\n",
              "</style>\n",
              "<table border=\"1\" class=\"dataframe\">\n",
              "  <thead>\n",
              "    <tr style=\"text-align: right;\">\n",
              "      <th></th>\n",
              "      <th>Mkt-RF</th>\n",
              "      <th>SMB</th>\n",
              "      <th>HML</th>\n",
              "      <th>RMW</th>\n",
              "      <th>CMA</th>\n",
              "      <th>RF</th>\n",
              "    </tr>\n",
              "  </thead>\n",
              "  <tbody>\n",
              "    <tr>\n",
              "      <th>1963-07-31</th>\n",
              "      <td>-0.0039</td>\n",
              "      <td>-0.0041</td>\n",
              "      <td>-0.0097</td>\n",
              "      <td>0.0068</td>\n",
              "      <td>-0.0118</td>\n",
              "      <td>0.0027</td>\n",
              "    </tr>\n",
              "    <tr>\n",
              "      <th>1963-08-31</th>\n",
              "      <td>0.0507</td>\n",
              "      <td>-0.0080</td>\n",
              "      <td>0.0180</td>\n",
              "      <td>0.0036</td>\n",
              "      <td>-0.0035</td>\n",
              "      <td>0.0025</td>\n",
              "    </tr>\n",
              "    <tr>\n",
              "      <th>1963-09-30</th>\n",
              "      <td>-0.0157</td>\n",
              "      <td>-0.0052</td>\n",
              "      <td>0.0013</td>\n",
              "      <td>-0.0071</td>\n",
              "      <td>0.0029</td>\n",
              "      <td>0.0027</td>\n",
              "    </tr>\n",
              "    <tr>\n",
              "      <th>1963-10-31</th>\n",
              "      <td>0.0253</td>\n",
              "      <td>-0.0139</td>\n",
              "      <td>-0.0010</td>\n",
              "      <td>0.0280</td>\n",
              "      <td>-0.0201</td>\n",
              "      <td>0.0029</td>\n",
              "    </tr>\n",
              "    <tr>\n",
              "      <th>1963-11-30</th>\n",
              "      <td>-0.0085</td>\n",
              "      <td>-0.0088</td>\n",
              "      <td>0.0175</td>\n",
              "      <td>-0.0051</td>\n",
              "      <td>0.0224</td>\n",
              "      <td>0.0027</td>\n",
              "    </tr>\n",
              "  </tbody>\n",
              "</table>\n",
              "</div>"
            ],
            "text/plain": [
              "            Mkt-RF     SMB     HML     RMW     CMA      RF\n",
              "1963-07-31 -0.0039 -0.0041 -0.0097  0.0068 -0.0118  0.0027\n",
              "1963-08-31  0.0507 -0.0080  0.0180  0.0036 -0.0035  0.0025\n",
              "1963-09-30 -0.0157 -0.0052  0.0013 -0.0071  0.0029  0.0027\n",
              "1963-10-31  0.0253 -0.0139 -0.0010  0.0280 -0.0201  0.0029\n",
              "1963-11-30 -0.0085 -0.0088  0.0175 -0.0051  0.0224  0.0027"
            ]
          },
          "execution_count": 38,
          "metadata": {},
          "output_type": "execute_result"
        }
      ],
      "source": [
        "# Convert the factor returns from percentage to decimal\n",
        "ff5_data = ff5_data / 100\n",
        "\n",
        "# Matching the dates\n",
        "ff5_data.index = ff5_data.index.to_period('M').to_timestamp('M')\n",
        "ff5_data.head()"
      ]
    },
    {
      "cell_type": "code",
      "execution_count": 39,
      "metadata": {
        "colab": {
          "base_uri": "https://localhost:8080/",
          "height": 423
        },
        "id": "S7oDLCkfhCo7",
        "outputId": "3ce9301a-857f-42b2-c3a1-74f10819aa4f"
      },
      "outputs": [
        {
          "data": {
            "text/html": [
              "<div>\n",
              "<style scoped>\n",
              "    .dataframe tbody tr th:only-of-type {\n",
              "        vertical-align: middle;\n",
              "    }\n",
              "\n",
              "    .dataframe tbody tr th {\n",
              "        vertical-align: top;\n",
              "    }\n",
              "\n",
              "    .dataframe thead th {\n",
              "        text-align: right;\n",
              "    }\n",
              "</style>\n",
              "<table border=\"1\" class=\"dataframe\">\n",
              "  <thead>\n",
              "    <tr style=\"text-align: right;\">\n",
              "      <th></th>\n",
              "      <th>Top_Returns</th>\n",
              "      <th>Bottom_Returns</th>\n",
              "      <th>Market_Returns</th>\n",
              "      <th>Risk_Free_Rates</th>\n",
              "      <th>Top_Excess_Returns</th>\n",
              "      <th>Bottom_Excess_Returns</th>\n",
              "      <th>Market_Excess_Returns</th>\n",
              "      <th>Mkt-RF</th>\n",
              "      <th>SMB</th>\n",
              "      <th>HML</th>\n",
              "      <th>RMW</th>\n",
              "      <th>CMA</th>\n",
              "      <th>RF</th>\n",
              "    </tr>\n",
              "  </thead>\n",
              "  <tbody>\n",
              "    <tr>\n",
              "      <th>2014-09-30</th>\n",
              "      <td>0.025067</td>\n",
              "      <td>0.056174</td>\n",
              "      <td>0.023551</td>\n",
              "      <td>0.000017</td>\n",
              "      <td>0.025050</td>\n",
              "      <td>0.056157</td>\n",
              "      <td>0.023534</td>\n",
              "      <td>-0.0197</td>\n",
              "      <td>-0.0373</td>\n",
              "      <td>-0.0134</td>\n",
              "      <td>0.0131</td>\n",
              "      <td>-0.0049</td>\n",
              "      <td>0.0</td>\n",
              "    </tr>\n",
              "    <tr>\n",
              "      <th>2014-10-31</th>\n",
              "      <td>0.038842</td>\n",
              "      <td>0.037186</td>\n",
              "      <td>0.027472</td>\n",
              "      <td>0.000017</td>\n",
              "      <td>0.038825</td>\n",
              "      <td>0.037170</td>\n",
              "      <td>0.027455</td>\n",
              "      <td>0.0252</td>\n",
              "      <td>0.0372</td>\n",
              "      <td>-0.0181</td>\n",
              "      <td>-0.0055</td>\n",
              "      <td>-0.0009</td>\n",
              "      <td>0.0</td>\n",
              "    </tr>\n",
              "    <tr>\n",
              "      <th>2014-11-30</th>\n",
              "      <td>0.003952</td>\n",
              "      <td>-0.006188</td>\n",
              "      <td>-0.002537</td>\n",
              "      <td>0.000025</td>\n",
              "      <td>0.003927</td>\n",
              "      <td>-0.006213</td>\n",
              "      <td>-0.002562</td>\n",
              "      <td>0.0255</td>\n",
              "      <td>-0.0228</td>\n",
              "      <td>-0.0309</td>\n",
              "      <td>0.0150</td>\n",
              "      <td>0.0026</td>\n",
              "      <td>0.0</td>\n",
              "    </tr>\n",
              "    <tr>\n",
              "      <th>2014-12-31</th>\n",
              "      <td>-0.030227</td>\n",
              "      <td>0.005468</td>\n",
              "      <td>-0.029629</td>\n",
              "      <td>0.000025</td>\n",
              "      <td>-0.030252</td>\n",
              "      <td>0.005443</td>\n",
              "      <td>-0.029654</td>\n",
              "      <td>-0.0006</td>\n",
              "      <td>0.0286</td>\n",
              "      <td>0.0227</td>\n",
              "      <td>-0.0122</td>\n",
              "      <td>0.0096</td>\n",
              "      <td>0.0</td>\n",
              "    </tr>\n",
              "    <tr>\n",
              "      <th>2015-01-31</th>\n",
              "      <td>0.034847</td>\n",
              "      <td>0.053208</td>\n",
              "      <td>0.056204</td>\n",
              "      <td>0.000017</td>\n",
              "      <td>0.034830</td>\n",
              "      <td>0.053191</td>\n",
              "      <td>0.056188</td>\n",
              "      <td>-0.0311</td>\n",
              "      <td>-0.0091</td>\n",
              "      <td>-0.0358</td>\n",
              "      <td>0.0160</td>\n",
              "      <td>-0.0166</td>\n",
              "      <td>0.0</td>\n",
              "    </tr>\n",
              "  </tbody>\n",
              "</table>\n",
              "</div>"
            ],
            "text/plain": [
              "            Top_Returns  Bottom_Returns  Market_Returns  Risk_Free_Rates   \n",
              "2014-09-30     0.025067        0.056174        0.023551         0.000017  \\\n",
              "2014-10-31     0.038842        0.037186        0.027472         0.000017   \n",
              "2014-11-30     0.003952       -0.006188       -0.002537         0.000025   \n",
              "2014-12-31    -0.030227        0.005468       -0.029629         0.000025   \n",
              "2015-01-31     0.034847        0.053208        0.056204         0.000017   \n",
              "\n",
              "            Top_Excess_Returns  Bottom_Excess_Returns  Market_Excess_Returns   \n",
              "2014-09-30            0.025050               0.056157               0.023534  \\\n",
              "2014-10-31            0.038825               0.037170               0.027455   \n",
              "2014-11-30            0.003927              -0.006213              -0.002562   \n",
              "2014-12-31           -0.030252               0.005443              -0.029654   \n",
              "2015-01-31            0.034830               0.053191               0.056188   \n",
              "\n",
              "            Mkt-RF     SMB     HML     RMW     CMA   RF  \n",
              "2014-09-30 -0.0197 -0.0373 -0.0134  0.0131 -0.0049  0.0  \n",
              "2014-10-31  0.0252  0.0372 -0.0181 -0.0055 -0.0009  0.0  \n",
              "2014-11-30  0.0255 -0.0228 -0.0309  0.0150  0.0026  0.0  \n",
              "2014-12-31 -0.0006  0.0286  0.0227 -0.0122  0.0096  0.0  \n",
              "2015-01-31 -0.0311 -0.0091 -0.0358  0.0160 -0.0166  0.0  "
            ]
          },
          "execution_count": 39,
          "metadata": {},
          "output_type": "execute_result"
        }
      ],
      "source": [
        "# Merge the dataframes\n",
        "ff_ret = all.merge(ff5_data, left_index=True, right_index=True)\n",
        "ff_ret.head()"
      ]
    },
    {
      "cell_type": "code",
      "execution_count": 40,
      "metadata": {
        "id": "bUGixpzShztT"
      },
      "outputs": [],
      "source": [
        "# Set the float display\n",
        "pd.set_option('display.float_format', '{:.4f}'.format)"
      ]
    },
    {
      "cell_type": "code",
      "execution_count": 41,
      "metadata": {
        "colab": {
          "base_uri": "https://localhost:8080/"
        },
        "id": "u9U0P6mLfWmi",
        "outputId": "a0a2db43-e26c-41be-94c5-c71675547b72"
      },
      "outputs": [
        {
          "name": "stdout",
          "output_type": "stream",
          "text": [
            "Top decile 5-factor alpha: 0.0048790929223861265\n",
            "Bottom decile 5-factor alpha: 0.0016822253973856015\n",
            "                            OLS Regression Results                            \n",
            "==============================================================================\n",
            "Dep. Variable:     Top_Excess_Returns   R-squared:                       0.101\n",
            "Model:                            OLS   Adj. R-squared:                  0.053\n",
            "Method:                 Least Squares   F-statistic:                     2.089\n",
            "Date:                Thu, 20 Jul 2023   Prob (F-statistic):             0.0736\n",
            "Time:                        16:43:17   Log-Likelihood:                 143.12\n",
            "No. Observations:                  99   AIC:                            -274.2\n",
            "Df Residuals:                      93   BIC:                            -258.7\n",
            "Df Model:                           5                                         \n",
            "Covariance Type:            nonrobust                                         \n",
            "==============================================================================\n",
            "                 coef    std err          t      P>|t|      [0.025      0.975]\n",
            "------------------------------------------------------------------------------\n",
            "const          0.0157      0.006      2.544      0.013       0.003       0.028\n",
            "Mkt-RF        -0.3485      0.144     -2.423      0.017      -0.634      -0.063\n",
            "SMB            0.5085      0.266      1.911      0.059      -0.020       1.037\n",
            "HML           -0.2788      0.226     -1.236      0.220      -0.727       0.169\n",
            "RMW            0.4290      0.329      1.304      0.195      -0.224       1.082\n",
            "CMA            0.4698      0.352      1.335      0.185      -0.229       1.169\n",
            "==============================================================================\n",
            "Omnibus:                       32.806   Durbin-Watson:                   2.126\n",
            "Prob(Omnibus):                  0.000   Jarque-Bera (JB):              146.820\n",
            "Skew:                          -0.921   Prob(JB):                     1.31e-32\n",
            "Kurtosis:                       8.674   Cond. No.                         67.8\n",
            "==============================================================================\n",
            "\n",
            "Notes:\n",
            "[1] Standard Errors assume that the covariance matrix of the errors is correctly specified.\n",
            "                              OLS Regression Results                             \n",
            "=================================================================================\n",
            "Dep. Variable:     Bottom_Excess_Returns   R-squared:                       0.064\n",
            "Model:                               OLS   Adj. R-squared:                  0.014\n",
            "Method:                    Least Squares   F-statistic:                     1.278\n",
            "Date:                   Thu, 20 Jul 2023   Prob (F-statistic):              0.280\n",
            "Time:                           16:43:17   Log-Likelihood:                 156.93\n",
            "No. Observations:                     99   AIC:                            -301.9\n",
            "Df Residuals:                         93   BIC:                            -286.3\n",
            "Df Model:                              5                                         \n",
            "Covariance Type:               nonrobust                                         \n",
            "==============================================================================\n",
            "                 coef    std err          t      P>|t|      [0.025      0.975]\n",
            "------------------------------------------------------------------------------\n",
            "const          0.0106      0.005      1.970      0.052   -8.48e-05       0.021\n",
            "Mkt-RF        -0.1964      0.125     -1.570      0.120      -0.445       0.052\n",
            "SMB            0.5201      0.231      2.247      0.027       0.061       0.980\n",
            "HML           -0.1872      0.196     -0.954      0.343      -0.577       0.203\n",
            "RMW            0.5181      0.286      1.811      0.073      -0.050       1.086\n",
            "CMA            0.0733      0.306      0.239      0.811      -0.535       0.681\n",
            "==============================================================================\n",
            "Omnibus:                       21.285   Durbin-Watson:                   2.070\n",
            "Prob(Omnibus):                  0.000   Jarque-Bera (JB):               42.303\n",
            "Skew:                          -0.823   Prob(JB):                     6.52e-10\n",
            "Kurtosis:                       5.747   Cond. No.                         67.8\n",
            "==============================================================================\n",
            "\n",
            "Notes:\n",
            "[1] Standard Errors assume that the covariance matrix of the errors is correctly specified.\n"
          ]
        }
      ],
      "source": [
        "# Run the 5-factor regression for the top decile portfolio\n",
        "top_X = sm.add_constant(ff_ret[['Mkt-RF', 'SMB', 'HML', 'RMW', 'CMA']])\n",
        "top_5f_model = sm.OLS(ff_ret['Top_Excess_Returns'], top_X).fit()\n",
        "top_5f_alpha = top_model.params['const']\n",
        "\n",
        "# Run the 5-factor regression for the bottom decile portfolio\n",
        "bottom_X = sm.add_constant(ff_ret[['Mkt-RF', 'SMB', 'HML', 'RMW', 'CMA']])\n",
        "bottom_5f_model = sm.OLS(ff_ret['Bottom_Excess_Returns'], bottom_X).fit()\n",
        "bottom_5f_alpha = bottom_model.params['const']\n",
        "\n",
        "print('Top decile 5-factor alpha:', top_5f_alpha)\n",
        "print('Bottom decile 5-factor alpha:', bottom_5f_alpha)\n",
        "print(top_5f_model.summary())\n",
        "print(bottom_5f_model.summary())"
      ]
    },
    {
      "cell_type": "markdown",
      "metadata": {},
      "source": [
        "For the 5-Factor model, the R-squared values are quite low for both portfolios, indicating that the Fama-French 5-factor model explains only a small portion of the variance in the portfolio returns. The F-statistics are also low, particularly for the bottom portfolio, suggesting that the overall model might not be very significant. The p-values for the alphas in the 5-factor model are below 5% for the top portfolio and just above 5% for the bottom portfolio. This suggests that the top portfolio has a statistically significant 5-factor alpha at the 5% level, while the bottom portfolio does not. This means that, according to the 5-factor model, the top portfolio generates significant abnormal returns after adjusting for the risk factors included in the model. In conclusion, the top decile portfolio appears to generate higher average returns and a higher 5-factor alpha than the bottom decile portfolio, although the difference is not statistically significant. According to the CAPM model, neither portfolio generates significant abnormal returns."
      ]
    },
    {
      "cell_type": "code",
      "execution_count": 42,
      "metadata": {
        "id": "88wq1VDIW3I-"
      },
      "outputs": [],
      "source": [
        "# Calculate 5-factor alpha difference\n",
        "alpha_diff_5f = top_5f_alpha - bottom_5f_alpha\n",
        "\n",
        "# Calculate standard errors of top and bottom 5-factor alphas\n",
        "top_5f_alpha_se = top_5f_model.bse['const']\n",
        "bottom_5f_alpha_se = bottom_5f_model.bse['const']\n",
        "\n",
        "# Calculate the standard error of the difference in 5-factor alphas\n",
        "alpha_diff_5f_se = np.sqrt(top_5f_alpha_se**2 + bottom_5f_alpha_se**2)\n",
        "\n",
        "t_stat_5f_alpha = alpha_diff_5f / alpha_diff_5f_se"
      ]
    },
    {
      "cell_type": "code",
      "execution_count": 43,
      "metadata": {
        "colab": {
          "base_uri": "https://localhost:8080/",
          "height": 174
        },
        "id": "FdtHStLWYa63",
        "outputId": "53f3c687-cadf-4031-a8fb-8a702f6d9eb9"
      },
      "outputs": [
        {
          "data": {
            "text/html": [
              "<div>\n",
              "<style scoped>\n",
              "    .dataframe tbody tr th:only-of-type {\n",
              "        vertical-align: middle;\n",
              "    }\n",
              "\n",
              "    .dataframe tbody tr th {\n",
              "        vertical-align: top;\n",
              "    }\n",
              "\n",
              "    .dataframe thead th {\n",
              "        text-align: right;\n",
              "    }\n",
              "</style>\n",
              "<table border=\"1\" class=\"dataframe\">\n",
              "  <thead>\n",
              "    <tr style=\"text-align: right;\">\n",
              "      <th></th>\n",
              "      <th>Portfolio</th>\n",
              "      <th>Average Return</th>\n",
              "      <th>Standard Deviation</th>\n",
              "      <th>T-Statistic</th>\n",
              "      <th>CAPM Alpha</th>\n",
              "      <th>T-Statistic(Alpha)</th>\n",
              "      <th>Information Ratio</th>\n",
              "      <th>5-Factor Alpha</th>\n",
              "      <th>T-Statistic(5-F Alpha)</th>\n",
              "    </tr>\n",
              "  </thead>\n",
              "  <tbody>\n",
              "    <tr>\n",
              "      <th>0</th>\n",
              "      <td>TOP</td>\n",
              "      <td>0.0155</td>\n",
              "      <td>0.0741</td>\n",
              "      <td>-</td>\n",
              "      <td>0.0049</td>\n",
              "      <td>-</td>\n",
              "      <td>0.2442</td>\n",
              "      <td>0.0049</td>\n",
              "      <td>-</td>\n",
              "    </tr>\n",
              "    <tr>\n",
              "      <th>1</th>\n",
              "      <td>BOT</td>\n",
              "      <td>0.0116</td>\n",
              "      <td>0.0646</td>\n",
              "      <td>-</td>\n",
              "      <td>0.0017</td>\n",
              "      <td>-</td>\n",
              "      <td>0.2099</td>\n",
              "      <td>0.0017</td>\n",
              "      <td>-</td>\n",
              "    </tr>\n",
              "    <tr>\n",
              "      <th>2</th>\n",
              "      <td>DIF</td>\n",
              "      <td>0.0039</td>\n",
              "      <td>0.0316</td>\n",
              "      <td>2.4920</td>\n",
              "      <td>0.0032</td>\n",
              "      <td>0.9104</td>\n",
              "      <td>0.0343</td>\n",
              "      <td>0.0032</td>\n",
              "      <td>0.3915</td>\n",
              "    </tr>\n",
              "  </tbody>\n",
              "</table>\n",
              "</div>"
            ],
            "text/plain": [
              "  Portfolio  Average Return  Standard Deviation T-Statistic  CAPM Alpha   \n",
              "0       TOP          0.0155              0.0741           -      0.0049  \\\n",
              "1       BOT          0.0116              0.0646           -      0.0017   \n",
              "2       DIF          0.0039              0.0316      2.4920      0.0032   \n",
              "\n",
              "  T-Statistic(Alpha)  Information Ratio  5-Factor Alpha T-Statistic(5-F Alpha)  \n",
              "0                  -             0.2442          0.0049                      -  \n",
              "1                  -             0.2099          0.0017                      -  \n",
              "2             0.9104             0.0343          0.0032                 0.3915  "
            ]
          },
          "execution_count": 43,
          "metadata": {},
          "output_type": "execute_result"
        }
      ],
      "source": [
        "# Add to summary table\n",
        "summary_table['5-Factor Alpha'] = [top_5f_alpha, bottom_5f_alpha, alpha_diff_5f]\n",
        "summary_table['T-Statistic(5-F Alpha)'] = ['-','-',t_stat_5f_alpha]\n",
        "summary_table"
      ]
    },
    {
      "cell_type": "markdown",
      "metadata": {
        "id": "f53tIJ1q-4oz"
      },
      "source": [
        "## Calculate Sharpe ratio"
      ]
    },
    {
      "cell_type": "code",
      "execution_count": 44,
      "metadata": {
        "colab": {
          "base_uri": "https://localhost:8080/"
        },
        "id": "g9SSxCZj9iJF",
        "outputId": "30f08090-fa80-45fc-f541-9c42acab01a2"
      },
      "outputs": [
        {
          "name": "stdout",
          "output_type": "stream",
          "text": [
            "Top Decile Sharpe Ratio: 0.244167869423719\n",
            "Bottom Decile Sharpe Ratio: 0.2098512142413897\n"
          ]
        },
        {
          "data": {
            "text/html": [
              "<div>\n",
              "<style scoped>\n",
              "    .dataframe tbody tr th:only-of-type {\n",
              "        vertical-align: middle;\n",
              "    }\n",
              "\n",
              "    .dataframe tbody tr th {\n",
              "        vertical-align: top;\n",
              "    }\n",
              "\n",
              "    .dataframe thead th {\n",
              "        text-align: right;\n",
              "    }\n",
              "</style>\n",
              "<table border=\"1\" class=\"dataframe\">\n",
              "  <thead>\n",
              "    <tr style=\"text-align: right;\">\n",
              "      <th></th>\n",
              "      <th>Portfolio</th>\n",
              "      <th>Average Return</th>\n",
              "      <th>Standard Deviation</th>\n",
              "      <th>T-Statistic</th>\n",
              "      <th>CAPM Alpha</th>\n",
              "      <th>T-Statistic(Alpha)</th>\n",
              "      <th>Information Ratio</th>\n",
              "      <th>5-Factor Alpha</th>\n",
              "      <th>T-Statistic(5-F Alpha)</th>\n",
              "      <th>Sharpe Ratio</th>\n",
              "    </tr>\n",
              "  </thead>\n",
              "  <tbody>\n",
              "    <tr>\n",
              "      <th>0</th>\n",
              "      <td>TOP</td>\n",
              "      <td>0.0155</td>\n",
              "      <td>0.0741</td>\n",
              "      <td>-</td>\n",
              "      <td>0.0049</td>\n",
              "      <td>-</td>\n",
              "      <td>0.2442</td>\n",
              "      <td>0.0049</td>\n",
              "      <td>-</td>\n",
              "      <td>0.2442</td>\n",
              "    </tr>\n",
              "    <tr>\n",
              "      <th>1</th>\n",
              "      <td>BOT</td>\n",
              "      <td>0.0116</td>\n",
              "      <td>0.0646</td>\n",
              "      <td>-</td>\n",
              "      <td>0.0017</td>\n",
              "      <td>-</td>\n",
              "      <td>0.2099</td>\n",
              "      <td>0.0017</td>\n",
              "      <td>-</td>\n",
              "      <td>0.2099</td>\n",
              "    </tr>\n",
              "    <tr>\n",
              "      <th>2</th>\n",
              "      <td>DIF</td>\n",
              "      <td>0.0039</td>\n",
              "      <td>0.0316</td>\n",
              "      <td>2.4920</td>\n",
              "      <td>0.0032</td>\n",
              "      <td>0.9104</td>\n",
              "      <td>0.0343</td>\n",
              "      <td>0.0032</td>\n",
              "      <td>0.3915</td>\n",
              "      <td>0.0343</td>\n",
              "    </tr>\n",
              "  </tbody>\n",
              "</table>\n",
              "</div>"
            ],
            "text/plain": [
              "  Portfolio  Average Return  Standard Deviation T-Statistic  CAPM Alpha   \n",
              "0       TOP          0.0155              0.0741           -      0.0049  \\\n",
              "1       BOT          0.0116              0.0646           -      0.0017   \n",
              "2       DIF          0.0039              0.0316      2.4920      0.0032   \n",
              "\n",
              "  T-Statistic(Alpha)  Information Ratio  5-Factor Alpha   \n",
              "0                  -             0.2442          0.0049  \\\n",
              "1                  -             0.2099          0.0017   \n",
              "2             0.9104             0.0343          0.0032   \n",
              "\n",
              "  T-Statistic(5-F Alpha)  Sharpe Ratio  \n",
              "0                      -        0.2442  \n",
              "1                      -        0.2099  \n",
              "2                 0.3915        0.0343  "
            ]
          },
          "execution_count": 44,
          "metadata": {},
          "output_type": "execute_result"
        }
      ],
      "source": [
        "# Calculate the average excess returns and standard deviations\n",
        "top_avg_excess_return = all['Top_Excess_Returns'].mean()\n",
        "bottom_avg_excess_return = all['Bottom_Excess_Returns'].mean()\n",
        "top_std_excess_return = all['Top_Excess_Returns'].std()\n",
        "bottom_std_excess_return = all['Bottom_Excess_Returns'].std()\n",
        "\n",
        "# Calculate Sharpe ratios\n",
        "top_sharpe_ratio = top_avg_excess_return / top_std_excess_return\n",
        "bottom_sharpe_ratio = bottom_avg_excess_return / bottom_std_excess_return\n",
        "\n",
        "print(\"Top Decile Sharpe Ratio:\", top_sharpe_ratio)\n",
        "print(\"Bottom Decile Sharpe Ratio:\", bottom_sharpe_ratio)\n",
        "\n",
        "# Add to summary table\n",
        "summary_table['Sharpe Ratio'] = [top_sharpe_ratio, bottom_sharpe_ratio, top_sharpe_ratio - bottom_sharpe_ratio]\n",
        "summary_table"
      ]
    },
    {
      "cell_type": "markdown",
      "metadata": {},
      "source": [
        "The top ESG-based portfolio has slightly outperformed the bottom ESG-based portfolio in terms of average returns, CAPM alpha, and Fama French 5-factor alpha. The t-statistic of 2.492 for the difference in average returns suggests that the difference is statistically significant. This indicates that the top and bottom decile portfolios have significantly different average returns. However, the t-statistic for the differences in CAPM alpha and 5-factor alpha is not statistically significant, suggesting that the difference in risk-adjusted performance could be due to random fluctuations."
      ]
    },
    {
      "cell_type": "markdown",
      "metadata": {
        "id": "0BKzwWPjhnW-"
      },
      "source": [
        "## Visualizations"
      ]
    },
    {
      "cell_type": "code",
      "execution_count": 45,
      "metadata": {
        "colab": {
          "base_uri": "https://localhost:8080/",
          "height": 564
        },
        "id": "r-Bj60dShqeJ",
        "outputId": "5bbef5e2-545c-4ab0-ea50-9434dfd11412"
      },
      "outputs": [
        {
          "data": {
            "image/png": "[encoded data removed]",
            "text/plain": [
              "<Figure size 1200x600 with 1 Axes>"
            ]
          },
          "metadata": {},
          "output_type": "display_data"
        }
      ],
      "source": [
        "# Calculate cumulative returns for the market\n",
        "market_cum_ret = (1+all['Market_Returns']).cumprod()\n",
        "\n",
        "# Plot the cumulative returns\n",
        "plt.figure(figsize=(12, 6))\n",
        "plt.title('Top and Bottom Decile Portfolio Cumulative Returns')\n",
        "plt.plot(top_cum_ret, label='Top Portfolio')\n",
        "plt.plot(bottom_cum_ret, label='Bottom Portfolio')\n",
        "plt.plot(market_cum_ret, label='Benchmark (SPY)')\n",
        "plt.xlabel('Date')\n",
        "plt.ylabel('Cumulative Returns')\n",
        "plt.legend()\n",
        "plt.show()"
      ]
    },
    {
      "cell_type": "markdown",
      "metadata": {},
      "source": [
        "As seen in the chart, both the top and bottom ESG portfolios have largely outperformed the S&P 500 over the timeframe of our study. Interestingly, the top decile ESG portfolio underperformed relative to the bottom one until 2022, but it seems to be gaining momentum and starting to outperform in the subsequent period. This could be an indication of the growing importance of ESG factors in driving investment performance."
      ]
    },
    {
      "cell_type": "code",
      "execution_count": 46,
      "metadata": {
        "colab": {
          "base_uri": "https://localhost:8080/",
          "height": 564
        },
        "id": "MhEK3gIeDn_B",
        "outputId": "c003ffa7-1c68-4396-a6f9-f97d72039068"
      },
      "outputs": [
        {
          "data": {
            "image/png": "[encoded data removed]",
            "text/plain": [
              "<Figure size 1000x600 with 1 Axes>"
            ]
          },
          "metadata": {},
          "output_type": "display_data"
        }
      ],
      "source": [
        "# Create a scatter plot of ESG scores and returns\n",
        "plt.figure(figsize=(10, 6))\n",
        "plt.scatter(merged_data['Total-Score'], merged_data['Return'], alpha=0.4)\n",
        "plt.xlabel('ESG Score')\n",
        "plt.ylabel('Stock Returns')\n",
        "plt.title('Scatter Plot of ESG Scores and Stock Returns')\n",
        "plt.show()"
      ]
    },
    {
      "cell_type": "markdown",
      "metadata": {},
      "source": [
        "According to the scatter plot, there does not appear to be a significant statistical relationship between ESG scores and returns for our sample. The data points are dispersed widely, suggesting that high ESG scores do not necessarily correspond to higher returns."
      ]
    },
    {
      "cell_type": "code",
      "execution_count": 47,
      "metadata": {
        "colab": {
          "base_uri": "https://localhost:8080/",
          "height": 529
        },
        "id": "TH46qtmyFRcr",
        "outputId": "fd232604-a41a-4a90-ad68-7626db43b039"
      },
      "outputs": [
        {
          "data": {
            "image/png": "[encoded data removed]",
            "text/plain": [
              "<Figure size 1000x500 with 1 Axes>"
            ]
          },
          "metadata": {},
          "output_type": "display_data"
        }
      ],
      "source": [
        "# Calculate the average returns for each decile\n",
        "average_returns = merged_data.groupby('Decile')['Return'].mean()\n",
        "\n",
        "# Plot a bar chart of average returns per decile\n",
        "plt.figure(figsize=(10, 5))\n",
        "average_returns.plot(kind='bar')\n",
        "plt.xlabel('Decile')\n",
        "plt.ylabel('Average Returns')\n",
        "plt.title('Average Returns per Decile')\n",
        "plt.xticks(range(10), [f'Decile {i}' for i in range(1, 11)], rotation=45)\n",
        "plt.show()"
      ]
    },
    {
      "cell_type": "markdown",
      "metadata": {},
      "source": [
        "The bar chart above reveals that the difference between the top and bottom deciles is minimal, with the middle decile exhibiting lower returns than both. However, when focusing on the period from 2018 onwards as seen below, the difference between the top and bottom deciles becomes more pronounced, indicating that the relationship between ESG scores and returns may have evolved over time. Same trend can also be seen in the rolling CAPM alpha chart at the end of the notebook."
      ]
    },
    {
      "cell_type": "code",
      "execution_count": 48,
      "metadata": {
        "colab": {
          "base_uri": "https://localhost:8080/",
          "height": 529
        },
        "id": "h2VAVW00HY2O",
        "outputId": "26d374e4-6ef5-4c6c-caea-f606dc1a7a6d"
      },
      "outputs": [
        {
          "data": {
            "image/png": "[encoded data removed]",
            "text/plain": [
              "<Figure size 1000x500 with 1 Axes>"
            ]
          },
          "metadata": {},
          "output_type": "display_data"
        }
      ],
      "source": [
        "# Filter data for more recent years\n",
        "recent_years = merged_data.loc[merged_data['Date'] >= '2018']\n",
        "\n",
        "# Calculate the average returns for each decile\n",
        "average_returns_recent = recent_years.groupby('Decile')['Return'].mean()\n",
        "\n",
        "# Plot the bar chart for recent years\n",
        "plt.figure(figsize=(10, 5))\n",
        "average_returns_recent.plot(kind='bar')\n",
        "plt.xlabel('Decile')\n",
        "plt.ylabel('Average Returns')\n",
        "plt.title('Average Returns per Decile (2018 onwards)')\n",
        "plt.xticks(range(10), [f'Decile {i}' for i in range(1, 11)], rotation=45)\n",
        "plt.show()\n"
      ]
    },
    {
      "cell_type": "code",
      "execution_count": 49,
      "metadata": {
        "colab": {
          "base_uri": "https://localhost:8080/",
          "height": 585
        },
        "id": "Ei8nddsnJKCv",
        "outputId": "590a815f-6699-4417-c987-b617e2ebc8b5"
      },
      "outputs": [
        {
          "data": {
            "image/png": "[encoded data removed]",
            "text/plain": [
              "<Figure size 1200x600 with 1 Axes>"
            ]
          },
          "metadata": {},
          "output_type": "display_data"
        }
      ],
      "source": [
        "# Plot the line chart for the difference between top and bottom decile returns\n",
        "fig, ax = plt.subplots(figsize=(12, 6))\n",
        "return_diff.plot(kind='bar',color=np.where(return_diff > 0, 'g', 'r'),ax=ax)\n",
        "ax.axhline(0, color='black', linewidth=0.8)\n",
        "\n",
        "plt.xlabel('Date')\n",
        "plt.ylabel('Return Difference')\n",
        "plt.title('Difference Between Top and Bottom Decile Returns (2014-2023)')\n",
        "\n",
        "ax.set_xticklabels([label if i%12 == 0 else '' for i, label in enumerate(return_diff.index.year)], rotation=45)\n",
        "plt.show()"
      ]
    },
    {
      "cell_type": "code",
      "execution_count": 50,
      "metadata": {
        "colab": {
          "base_uri": "https://localhost:8080/",
          "height": 699
        },
        "id": "BDyaWZseLuit",
        "outputId": "1da42114-78b4-4ad1-9ffc-82ba97534789"
      },
      "outputs": [
        {
          "data": {
            "image/png": "[encoded data removed]",
            "text/plain": [
              "<Figure size 1000x800 with 2 Axes>"
            ]
          },
          "metadata": {},
          "output_type": "display_data"
        }
      ],
      "source": [
        "# Calculate correlations between ESG scores, stock returns, market returns, risk-free rates, and excess returns\n",
        "correlations = all[['Top_Returns', 'Bottom_Returns', 'Market_Returns']].corr()\n",
        "\n",
        "# Plot the correlation heatmap\n",
        "plt.figure(figsize=(10, 8))\n",
        "sns.heatmap(correlations, annot=True, cmap='coolwarm', vmin=-1, vmax=1)\n",
        "plt.title('Correlation Heatmap')\n",
        "plt.show()"
      ]
    },
    {
      "cell_type": "code",
      "execution_count": 51,
      "metadata": {
        "colab": {
          "base_uri": "https://localhost:8080/",
          "height": 1000
        },
        "id": "gmPArgNEMPmV",
        "outputId": "2e52d10e-1922-4ae2-c059-7a3e6deeaf75"
      },
      "outputs": [
        {
          "data": {
            "image/png": "[encoded data removed]",
            "text/plain": [
              "<Figure size 1200x600 with 1 Axes>"
            ]
          },
          "metadata": {},
          "output_type": "display_data"
        },
        {
          "data": {
            "image/png": "[encoded data removed]",
            "text/plain": [
              "<Figure size 1200x600 with 1 Axes>"
            ]
          },
          "metadata": {},
          "output_type": "display_data"
        }
      ],
      "source": [
        "# Calculate rolling average returns for top and bottom decile portfolios\n",
        "top_rolling_avg_return = all['Top_Returns'].rolling(window=12).mean()\n",
        "bottom_rolling_avg_return = all['Bottom_Returns'].rolling(window=12).mean()\n",
        "\n",
        "# Calculate rolling CAPM alphas for top and bottom decile portfolios\n",
        "top_rolling_alpha = all['Top_Excess_Returns'].rolling(window=12).apply(lambda x: sm.OLS(x, sm.add_constant(all.loc[x.index, 'Market_Excess_Returns'])).fit().params['const'])\n",
        "bottom_rolling_alpha = all['Bottom_Excess_Returns'].rolling(window=12).apply(lambda x: sm.OLS(x, sm.add_constant(all.loc[x.index, 'Market_Excess_Returns'])).fit().params['const'])\n",
        "\n",
        "# Plot rolling average returns\n",
        "plt.figure(figsize=(12, 6))\n",
        "plt.plot(top_rolling_avg_return, label='Top Portfolio (Avg. Return)')\n",
        "plt.plot(bottom_rolling_avg_return, label='Bottom Portfolio (Avg. Return)')\n",
        "plt.xlabel('Date')\n",
        "plt.ylabel('Rolling 12-Month Average Return')\n",
        "plt.legend()\n",
        "plt.title('Rolling 12-Month Average Returns')\n",
        "plt.show()\n",
        "\n",
        "# Plot rolling CAPM alphas\n",
        "plt.figure(figsize=(12, 6))\n",
        "plt.plot(top_rolling_alpha, label='Top Portfolio (CAPM Alpha)')\n",
        "plt.plot(bottom_rolling_alpha, label='Bottom Portfolio (CAPM Alpha)')\n",
        "plt.xlabel('Date')\n",
        "plt.ylabel('Rolling 12-Month CAPM Alpha')\n",
        "plt.legend()\n",
        "plt.title('Rolling 12-Month CAPM Alphas')\n",
        "plt.show()"
      ]
    },
    {
      "cell_type": "markdown",
      "metadata": {},
      "source": [
        "## Limitations:\n",
        "\n",
        "1. **Data completeness**: The analysis is based on the available ESG scores and stock returns data. There might be external factors or events not captured by the datasets that could influence stock returns.\n",
        "\n",
        "2. **Handling missing data**: Used forward filling for ESG scores, and applied an inner merge which excluded missing returns data. Different methods can yield different results.\n",
        "\n",
        "3. **ESG scoring**: The ESG scores represent a specific methodology's output, and different providers or methodologies might yield different scores for the same firm. The results here rely on the ESG score dataset from Yahoo Finance.\n",
        "\n",
        "4. **Causality**: Correlation does not imply causation. There could be other variables or factors influencing the observed relationships.\n",
        "\n",
        "5. **Time horizon**: The analysis focuses on monthly returns between September 2014 and December 2022. The relationship between ESG scores and returns might vary over different investment horizons."
      ]
    }
  ],
  "metadata": {
    "colab": {
      "collapsed_sections": [
        "zj44CqHFO_Kd",
        "ODUyfCqXPM8O",
        "Izw4v2seW52A",
        "tX4x0v4rX997",
        "lVzYlDqd_gAe",
        "ZLRUAWOCSPeD",
        "_76M4rYdlK78",
        "gLjfs2Hn5xdS",
        "LL2oRNhOdmdI",
        "v1fjd-wibpvS",
        "f53tIJ1q-4oz",
        "0BKzwWPjhnW-"
      ],
      "provenance": []
    },
    "kernelspec": {
      "display_name": "Python 3",
      "name": "python3"
    },
    "language_info": {
      "codemirror_mode": {
        "name": "ipython",
        "version": 3
      },
      "file_extension": ".py",
      "mimetype": "text/x-python",
      "name": "python",
      "nbconvert_exporter": "python",
      "pygments_lexer": "ipython3",
      "version": "3.10.10"
    }
  },
  "nbformat": 4,
  "nbformat_minor": 0
}
